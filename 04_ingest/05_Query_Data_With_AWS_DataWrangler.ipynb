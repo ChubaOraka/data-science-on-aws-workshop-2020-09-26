{
 "cells": [
  {
   "cell_type": "markdown",
   "metadata": {},
   "source": [
    "# Query Data with AWS Data Wrangler"
   ]
  },
  {
   "cell_type": "markdown",
   "metadata": {},
   "source": [
    "**AWS Data Wrangler** is an open-source Python library that extends the power of the Pandas library to AWS connecting DataFrames and AWS data related services (Amazon Redshift, AWS Glue, Amazon Athena, Amazon EMR, Amazon QuickSight, etc).\n",
    "\n",
    "* https://github.com/awslabs/aws-data-wrangler\n",
    "* https://aws-data-wrangler.readthedocs.io\n",
    "\n",
    "Built on top of other open-source projects like Pandas, Apache Arrow, Boto3, s3fs, SQLAlchemy, Psycopg2 and PyMySQL, it offers abstracted functions to execute usual ETL tasks like load/unload data from Data Lakes, Data Warehouses and Databases.\n",
    "\n",
    "_Note that AWS Data Wrangler is simply a Python library that uses existing AWS Services.  AWS Data Wrangler is not a separate AWS Service.  You install AWS Data Wrangler through `pip install` as we will see next._"
   ]
  },
  {
   "cell_type": "markdown",
   "metadata": {},
   "source": [
    "# _Pre-Requisite: Make Sure You Created an Athena Table for Both TSV and Parquet in Previous Notebooks_"
   ]
  },
  {
   "cell_type": "code",
   "execution_count": 1,
   "metadata": {},
   "outputs": [],
   "source": [
    "%store -r ingest_create_athena_table_tsv_passed"
   ]
  },
  {
   "cell_type": "code",
   "execution_count": 2,
   "metadata": {},
   "outputs": [],
   "source": [
    "try:\n",
    "    ingest_create_athena_table_tsv_passed\n",
    "except NameError:\n",
    "    print('++++++++++++++++++++++++++++++++++++++++++++++')\n",
    "    print('[ERROR] YOU HAVE TO RUN ALL PREVIOUS NOTEBOOKS.  You did not register the TSV Data.')\n",
    "    print('++++++++++++++++++++++++++++++++++++++++++++++')"
   ]
  },
  {
   "cell_type": "code",
   "execution_count": 3,
   "metadata": {},
   "outputs": [
    {
     "name": "stdout",
     "output_type": "stream",
     "text": [
      "True\n"
     ]
    }
   ],
   "source": [
    "print(ingest_create_athena_table_tsv_passed)"
   ]
  },
  {
   "cell_type": "code",
   "execution_count": 4,
   "metadata": {},
   "outputs": [
    {
     "name": "stdout",
     "output_type": "stream",
     "text": [
      "[OK]\n"
     ]
    }
   ],
   "source": [
    "if not ingest_create_athena_table_tsv_passed:\n",
    "    print('++++++++++++++++++++++++++++++++++++++++++++++')\n",
    "    print('[ERROR] YOU HAVE TO RUN ALL PREVIOUS NOTEBOOKS.  You did not register the TSV Data.')\n",
    "    print('++++++++++++++++++++++++++++++++++++++++++++++')\n",
    "else:\n",
    "    print('[OK]')"
   ]
  },
  {
   "cell_type": "code",
   "execution_count": 5,
   "metadata": {},
   "outputs": [],
   "source": [
    "%store -r ingest_create_athena_table_parquet_passed"
   ]
  },
  {
   "cell_type": "code",
   "execution_count": 6,
   "metadata": {},
   "outputs": [],
   "source": [
    "try:\n",
    "    ingest_create_athena_table_parquet_passed\n",
    "except NameError:\n",
    "    print('++++++++++++++++++++++++++++++++++++++++++++++')\n",
    "    print('[ERROR] YOU HAVE TO RUN ALL PREVIOUS NOTEBOOKS.  You did not convert into Parquet data.')\n",
    "    print('++++++++++++++++++++++++++++++++++++++++++++++')"
   ]
  },
  {
   "cell_type": "code",
   "execution_count": 7,
   "metadata": {},
   "outputs": [
    {
     "name": "stdout",
     "output_type": "stream",
     "text": [
      "True\n"
     ]
    }
   ],
   "source": [
    "print(ingest_create_athena_table_parquet_passed)"
   ]
  },
  {
   "cell_type": "code",
   "execution_count": 8,
   "metadata": {},
   "outputs": [
    {
     "name": "stdout",
     "output_type": "stream",
     "text": [
      "[OK]\n"
     ]
    }
   ],
   "source": [
    "if not ingest_create_athena_table_parquet_passed:\n",
    "    print('++++++++++++++++++++++++++++++++++++++++++++++')\n",
    "    print('[ERROR] YOU HAVE TO RUN ALL PREVIOUS NOTEBOOKS.  You did not convert into Parquet data.') \n",
    "    print('++++++++++++++++++++++++++++++++++++++++++++++')\n",
    "else:\n",
    "    print('[OK]')"
   ]
  },
  {
   "cell_type": "markdown",
   "metadata": {},
   "source": [
    "# Setup"
   ]
  },
  {
   "cell_type": "code",
   "execution_count": 9,
   "metadata": {},
   "outputs": [],
   "source": [
    "import sagemaker\n",
    "import boto3\n",
    "\n",
    "sagemaker_session = sagemaker.Session()\n",
    "role = sagemaker.get_execution_role()\n",
    "bucket = sagemaker_session.default_bucket()\n",
    "region = boto3.Session().region_name\n",
    "\n",
    "sm = boto3.Session().client(service_name='sagemaker', region_name=region)"
   ]
  },
  {
   "cell_type": "code",
   "execution_count": 10,
   "metadata": {},
   "outputs": [],
   "source": [
    "import awswrangler as wr"
   ]
  },
  {
   "cell_type": "markdown",
   "metadata": {},
   "source": [
    "# Query Parquet from S3 with Push-Down Filters\n",
    "\n",
    "Read Apache Parquet file(s) from from a received S3 prefix or list of S3 objects paths.\n",
    "\n",
    "The concept of Dataset goes beyond the simple idea of files and enable more complex features like partitioning and catalog integration (AWS Glue Catalog): \n",
    "\n",
    "_dataset (bool)_ – If True read a parquet dataset instead of simple file(s) loading all the related partitions as columns."
   ]
  },
  {
   "cell_type": "code",
   "execution_count": 11,
   "metadata": {},
   "outputs": [],
   "source": [
    "p_filter = lambda x: True if x[\"product_category\"] == \"Digital_Software\" else False"
   ]
  },
  {
   "cell_type": "code",
   "execution_count": 12,
   "metadata": {},
   "outputs": [
    {
     "data": {
      "text/plain": [
       "(102084, 3)"
      ]
     },
     "execution_count": 12,
     "metadata": {},
     "output_type": "execute_result"
    }
   ],
   "source": [
    "path = 's3://{}/amazon-reviews-pds/parquet/'.format(bucket)\n",
    "df_parquet_results = wr.s3.read_parquet(path,\n",
    "                                        columns=['star_rating', 'product_category', 'review_body'],\n",
    "                                        partition_filter=p_filter,\n",
    "                                        dataset=True)\n",
    "df_parquet_results.shape"
   ]
  },
  {
   "cell_type": "code",
   "execution_count": 13,
   "metadata": {},
   "outputs": [
    {
     "data": {
      "text/html": [
       "<div>\n",
       "<style scoped>\n",
       "    .dataframe tbody tr th:only-of-type {\n",
       "        vertical-align: middle;\n",
       "    }\n",
       "\n",
       "    .dataframe tbody tr th {\n",
       "        vertical-align: top;\n",
       "    }\n",
       "\n",
       "    .dataframe thead th {\n",
       "        text-align: right;\n",
       "    }\n",
       "</style>\n",
       "<table border=\"1\" class=\"dataframe\">\n",
       "  <thead>\n",
       "    <tr style=\"text-align: right;\">\n",
       "      <th></th>\n",
       "      <th>star_rating</th>\n",
       "      <th>review_body</th>\n",
       "      <th>product_category</th>\n",
       "    </tr>\n",
       "  </thead>\n",
       "  <tbody>\n",
       "    <tr>\n",
       "      <th>0</th>\n",
       "      <td>2</td>\n",
       "      <td>Did not have all the forms, I was missing city...</td>\n",
       "      <td>Digital_Software</td>\n",
       "    </tr>\n",
       "    <tr>\n",
       "      <th>1</th>\n",
       "      <td>5</td>\n",
       "      <td>Norton Antivirus PC download is reasonably pri...</td>\n",
       "      <td>Digital_Software</td>\n",
       "    </tr>\n",
       "    <tr>\n",
       "      <th>2</th>\n",
       "      <td>1</td>\n",
       "      <td>Do not waste your time trying to purchase to d...</td>\n",
       "      <td>Digital_Software</td>\n",
       "    </tr>\n",
       "    <tr>\n",
       "      <th>3</th>\n",
       "      <td>5</td>\n",
       "      <td>This program has worked great on my Mac with n...</td>\n",
       "      <td>Digital_Software</td>\n",
       "    </tr>\n",
       "    <tr>\n",
       "      <th>4</th>\n",
       "      <td>2</td>\n",
       "      <td>It really isn't a true sync of my Quicken data...</td>\n",
       "      <td>Digital_Software</td>\n",
       "    </tr>\n",
       "  </tbody>\n",
       "</table>\n",
       "</div>"
      ],
      "text/plain": [
       "   star_rating                                        review_body  \\\n",
       "0            2  Did not have all the forms, I was missing city...   \n",
       "1            5  Norton Antivirus PC download is reasonably pri...   \n",
       "2            1  Do not waste your time trying to purchase to d...   \n",
       "3            5  This program has worked great on my Mac with n...   \n",
       "4            2  It really isn't a true sync of my Quicken data...   \n",
       "\n",
       "   product_category  \n",
       "0  Digital_Software  \n",
       "1  Digital_Software  \n",
       "2  Digital_Software  \n",
       "3  Digital_Software  \n",
       "4  Digital_Software  "
      ]
     },
     "execution_count": 13,
     "metadata": {},
     "output_type": "execute_result"
    }
   ],
   "source": [
    "df_parquet_results.head(5)"
   ]
  },
  {
   "cell_type": "markdown",
   "metadata": {},
   "source": [
    "# Query Parquet from S3 in Chunks"
   ]
  },
  {
   "cell_type": "markdown",
   "metadata": {},
   "source": [
    "Batching (chunked argument) (Memory Friendly):\n",
    "\n",
    "Will enable the function to return a Iterable of DataFrames instead of a regular DataFrame.\n",
    "\n",
    "There are two batching strategies on Wrangler:\n",
    "* If chunked=True, a new DataFrame will be returned for each file in your path/dataset.\n",
    "* If chunked=INTEGER, Wrangler will iterate on the data by number of rows equal to the received INTEGER.\n",
    "\n",
    "P.S. chunked=True if faster and uses less memory while chunked=INTEGER is more precise in number of rows for each Dataframe."
   ]
  },
  {
   "cell_type": "code",
   "execution_count": 14,
   "metadata": {},
   "outputs": [],
   "source": [
    "path = 's3://{}/amazon-reviews-pds/parquet/'.format(bucket)\n",
    "chunk_iter = wr.s3.read_parquet(path,\n",
    "                                columns=['star_rating', 'product_category', 'review_body'],\n",
    "                                # filters=[(\"product_category\", \"=\", \"Digital_Software\")],\n",
    "                                partition_filter=p_filter,\n",
    "                                dataset=True,\n",
    "                                chunked=True)"
   ]
  },
  {
   "cell_type": "code",
   "execution_count": 15,
   "metadata": {
    "scrolled": true
   },
   "outputs": [
    {
     "name": "stdout",
     "output_type": "stream",
     "text": [
      "     star_rating                                        review_body  \\\n",
      "0              2  Did not have all the forms, I was missing city...   \n",
      "1              5  Norton Antivirus PC download is reasonably pri...   \n",
      "2              1  Do not waste your time trying to purchase to d...   \n",
      "3              5  This program has worked great on my Mac with n...   \n",
      "4              2  It really isn't a true sync of my Quicken data...   \n",
      "..           ...                                                ...   \n",
      "186            4  This is a well thought out program and has eve...   \n",
      "187            5  Suits my needs very well. Thanks but I wish I ...   \n",
      "188            4  When it came time to renew my internet protect...   \n",
      "189            5  We have investments in several MLP's that send...   \n",
      "190            5  I am a sole proprietor with a very small busin...   \n",
      "\n",
      "     product_category  \n",
      "0    Digital_Software  \n",
      "1    Digital_Software  \n",
      "2    Digital_Software  \n",
      "3    Digital_Software  \n",
      "4    Digital_Software  \n",
      "..                ...  \n",
      "186  Digital_Software  \n",
      "187  Digital_Software  \n",
      "188  Digital_Software  \n",
      "189  Digital_Software  \n",
      "190  Digital_Software  \n",
      "\n",
      "[191 rows x 3 columns]\n"
     ]
    }
   ],
   "source": [
    "print(next(chunk_iter))"
   ]
  },
  {
   "cell_type": "markdown",
   "metadata": {},
   "source": [
    "# Query the Glue Catalog (ie. Hive Metastore)\n",
    "Get an iterator of tables."
   ]
  },
  {
   "cell_type": "code",
   "execution_count": 16,
   "metadata": {},
   "outputs": [],
   "source": [
    "database_name = 'dsoaws'\n",
    "table_name_tsv = 'amazon_reviews_tsv'\n",
    "table_name_parquet = 'amazon_reviews_parquet'"
   ]
  },
  {
   "cell_type": "code",
   "execution_count": 17,
   "metadata": {},
   "outputs": [
    {
     "name": "stdout",
     "output_type": "stream",
     "text": [
      "amazon_reviews_parquet\n",
      "amazon_reviews_tsv\n"
     ]
    }
   ],
   "source": [
    "for table in wr.catalog.get_tables(database=\"dsoaws\"):\n",
    "    print(table['Name'])"
   ]
  },
  {
   "cell_type": "markdown",
   "metadata": {},
   "source": [
    "# Query from Athena\n",
    "Execute any SQL query on AWS Athena and return the results as a Pandas DataFrame.  \n"
   ]
  },
  {
   "cell_type": "code",
   "execution_count": 18,
   "metadata": {},
   "outputs": [
    {
     "name": "stdout",
     "output_type": "stream",
     "text": [
      "CPU times: user 259 ms, sys: 21.7 ms, total: 281 ms\n",
      "Wall time: 6.71 s\n"
     ]
    }
   ],
   "source": [
    "%%time\n",
    "df = wr.athena.read_sql_query(\n",
    "    sql='SELECT * FROM {} LIMIT 5000'.format(table_name_parquet),\n",
    "    database=database_name\n",
    ")"
   ]
  },
  {
   "cell_type": "code",
   "execution_count": 19,
   "metadata": {},
   "outputs": [
    {
     "data": {
      "text/html": [
       "<div>\n",
       "<style scoped>\n",
       "    .dataframe tbody tr th:only-of-type {\n",
       "        vertical-align: middle;\n",
       "    }\n",
       "\n",
       "    .dataframe tbody tr th {\n",
       "        vertical-align: top;\n",
       "    }\n",
       "\n",
       "    .dataframe thead th {\n",
       "        text-align: right;\n",
       "    }\n",
       "</style>\n",
       "<table border=\"1\" class=\"dataframe\">\n",
       "  <thead>\n",
       "    <tr style=\"text-align: right;\">\n",
       "      <th></th>\n",
       "      <th>marketplace</th>\n",
       "      <th>customer_id</th>\n",
       "      <th>review_id</th>\n",
       "      <th>product_id</th>\n",
       "      <th>product_parent</th>\n",
       "      <th>product_title</th>\n",
       "      <th>star_rating</th>\n",
       "      <th>helpful_votes</th>\n",
       "      <th>total_votes</th>\n",
       "      <th>vine</th>\n",
       "      <th>verified_purchase</th>\n",
       "      <th>review_headline</th>\n",
       "      <th>review_body</th>\n",
       "      <th>year</th>\n",
       "      <th>review_date</th>\n",
       "      <th>product_category</th>\n",
       "    </tr>\n",
       "  </thead>\n",
       "  <tbody>\n",
       "    <tr>\n",
       "      <th>0</th>\n",
       "      <td>US</td>\n",
       "      <td>28931209</td>\n",
       "      <td>RBNC2XLX461DQ</td>\n",
       "      <td>B009HBCZPQ</td>\n",
       "      <td>808553197</td>\n",
       "      <td>Turbo Tax Parent V2</td>\n",
       "      <td>2</td>\n",
       "      <td>0</td>\n",
       "      <td>1</td>\n",
       "      <td>N</td>\n",
       "      <td>Y</td>\n",
       "      <td>Not worth the money</td>\n",
       "      <td>Did not have all the forms, I was missing city...</td>\n",
       "      <td>2013</td>\n",
       "      <td>2013-04-20</td>\n",
       "      <td>Digital_Software</td>\n",
       "    </tr>\n",
       "    <tr>\n",
       "      <th>1</th>\n",
       "      <td>US</td>\n",
       "      <td>52887452</td>\n",
       "      <td>RKH9IGDFBFVHD</td>\n",
       "      <td>B008SCNCTI</td>\n",
       "      <td>866682919</td>\n",
       "      <td>Norton Antivirus 2013 - 1 User / 3 PC</td>\n",
       "      <td>5</td>\n",
       "      <td>0</td>\n",
       "      <td>0</td>\n",
       "      <td>N</td>\n",
       "      <td>Y</td>\n",
       "      <td>All around good product</td>\n",
       "      <td>Norton Antivirus PC download is reasonably pri...</td>\n",
       "      <td>2013</td>\n",
       "      <td>2013-04-20</td>\n",
       "      <td>Digital_Software</td>\n",
       "    </tr>\n",
       "    <tr>\n",
       "      <th>2</th>\n",
       "      <td>US</td>\n",
       "      <td>17878349</td>\n",
       "      <td>R1AY7RGUK9LJA7</td>\n",
       "      <td>B009VI8E82</td>\n",
       "      <td>302765791</td>\n",
       "      <td>Microsoft Windows 8 Pro Pack (Win 8 to Win 8 P...</td>\n",
       "      <td>1</td>\n",
       "      <td>1</td>\n",
       "      <td>4</td>\n",
       "      <td>N</td>\n",
       "      <td>Y</td>\n",
       "      <td>Smoke and Mirrors</td>\n",
       "      <td>Do not waste your time trying to purchase to d...</td>\n",
       "      <td>2013</td>\n",
       "      <td>2013-04-20</td>\n",
       "      <td>Digital_Software</td>\n",
       "    </tr>\n",
       "    <tr>\n",
       "      <th>3</th>\n",
       "      <td>US</td>\n",
       "      <td>28404410</td>\n",
       "      <td>R2XB4JF74JWIC2</td>\n",
       "      <td>B0064PFB9U</td>\n",
       "      <td>232554866</td>\n",
       "      <td>Office Mac Home and Student 2011 - 1PC/1User [...</td>\n",
       "      <td>5</td>\n",
       "      <td>0</td>\n",
       "      <td>0</td>\n",
       "      <td>N</td>\n",
       "      <td>Y</td>\n",
       "      <td>Works Great on My Mac</td>\n",
       "      <td>This program has worked great on my Mac with n...</td>\n",
       "      <td>2013</td>\n",
       "      <td>2013-04-20</td>\n",
       "      <td>Digital_Software</td>\n",
       "    </tr>\n",
       "    <tr>\n",
       "      <th>4</th>\n",
       "      <td>US</td>\n",
       "      <td>16925331</td>\n",
       "      <td>R1SPSWOA91HMPK</td>\n",
       "      <td>B008S0IMCC</td>\n",
       "      <td>534964191</td>\n",
       "      <td>Quicken Deluxe 2013</td>\n",
       "      <td>2</td>\n",
       "      <td>0</td>\n",
       "      <td>0</td>\n",
       "      <td>N</td>\n",
       "      <td>Y</td>\n",
       "      <td>Needs work</td>\n",
       "      <td>It really isn't a true sync of my Quicken data...</td>\n",
       "      <td>2013</td>\n",
       "      <td>2013-04-20</td>\n",
       "      <td>Digital_Software</td>\n",
       "    </tr>\n",
       "  </tbody>\n",
       "</table>\n",
       "</div>"
      ],
      "text/plain": [
       "  marketplace customer_id       review_id  product_id product_parent  \\\n",
       "0          US    28931209   RBNC2XLX461DQ  B009HBCZPQ      808553197   \n",
       "1          US    52887452   RKH9IGDFBFVHD  B008SCNCTI      866682919   \n",
       "2          US    17878349  R1AY7RGUK9LJA7  B009VI8E82      302765791   \n",
       "3          US    28404410  R2XB4JF74JWIC2  B0064PFB9U      232554866   \n",
       "4          US    16925331  R1SPSWOA91HMPK  B008S0IMCC      534964191   \n",
       "\n",
       "                                       product_title  star_rating  \\\n",
       "0                                Turbo Tax Parent V2            2   \n",
       "1              Norton Antivirus 2013 - 1 User / 3 PC            5   \n",
       "2  Microsoft Windows 8 Pro Pack (Win 8 to Win 8 P...            1   \n",
       "3  Office Mac Home and Student 2011 - 1PC/1User [...            5   \n",
       "4                                Quicken Deluxe 2013            2   \n",
       "\n",
       "   helpful_votes  total_votes vine verified_purchase          review_headline  \\\n",
       "0              0            1    N                 Y      Not worth the money   \n",
       "1              0            0    N                 Y  All around good product   \n",
       "2              1            4    N                 Y        Smoke and Mirrors   \n",
       "3              0            0    N                 Y    Works Great on My Mac   \n",
       "4              0            0    N                 Y               Needs work   \n",
       "\n",
       "                                         review_body  year review_date  \\\n",
       "0  Did not have all the forms, I was missing city...  2013  2013-04-20   \n",
       "1  Norton Antivirus PC download is reasonably pri...  2013  2013-04-20   \n",
       "2  Do not waste your time trying to purchase to d...  2013  2013-04-20   \n",
       "3  This program has worked great on my Mac with n...  2013  2013-04-20   \n",
       "4  It really isn't a true sync of my Quicken data...  2013  2013-04-20   \n",
       "\n",
       "   product_category  \n",
       "0  Digital_Software  \n",
       "1  Digital_Software  \n",
       "2  Digital_Software  \n",
       "3  Digital_Software  \n",
       "4  Digital_Software  "
      ]
     },
     "execution_count": 19,
     "metadata": {},
     "output_type": "execute_result"
    }
   ],
   "source": [
    "df.head(5)"
   ]
  },
  {
   "cell_type": "markdown",
   "metadata": {},
   "source": [
    "# Query from Athena in Chunks\n",
    "Retrieving in chunks can help reduce memory requirements.  \n",
    "\n",
    "_This will take a few seconds._"
   ]
  },
  {
   "cell_type": "code",
   "execution_count": 20,
   "metadata": {},
   "outputs": [
    {
     "name": "stdout",
     "output_type": "stream",
     "text": [
      "CPU times: user 203 ms, sys: 12 ms, total: 216 ms\n",
      "Wall time: 6.74 s\n"
     ]
    }
   ],
   "source": [
    "%%time\n",
    "\n",
    "chunk_iter = wr.athena.read_sql_query(\n",
    "    sql='SELECT * FROM {} LIMIT 5000'.format(table_name_parquet),\n",
    "    database='{}'.format(database_name),\n",
    "    chunksize=64_000  # 64 KB Chunks\n",
    ")"
   ]
  },
  {
   "cell_type": "code",
   "execution_count": 21,
   "metadata": {},
   "outputs": [
    {
     "name": "stdout",
     "output_type": "stream",
     "text": [
      "     marketplace customer_id       review_id  product_id product_parent  \\\n",
      "0             US    51106503  R3RO07ID7KIX9Y  B00GUXLRCQ      387279151   \n",
      "1             US    17190816  R2G4LXBHM6DQ65  B00H9A60O4      608720080   \n",
      "2             US    42984321   RAMRN0WMX1CYR  B009KTSKVI      369346636   \n",
      "3             US    22028396  R23B8TRY9BY1C2  B00F8LJXKY       53079259   \n",
      "4             US    39853265  R135YS3STI0G2A  B00FFINFM2      218020461   \n",
      "...          ...         ...             ...         ...            ...   \n",
      "4679          US    45483279  R2VY5ZTR0TRKLR  B002ASAGSG      884182111   \n",
      "4680          US    37622817  R1RRSSCMGAX6K9  B009SPZ11Q      826849966   \n",
      "4681          US    14892143  R21W37UR310AC3  B00GUNLZ00      312588924   \n",
      "4682          US    13236238  R1G19RUCIVIC9X  B00BLVM00A      880777294   \n",
      "4683          US    12839079  R1V5732BMMPKZX  B00GGUUFUI      721570092   \n",
      "\n",
      "                                          product_title  star_rating  \\\n",
      "0                                          Banktivity 5            5   \n",
      "1                  Avast Free Antivirus 2015 [Download]            1   \n",
      "2                              Home Designer Suite 2014            5   \n",
      "3                            Adobe Premiere Elements 12            1   \n",
      "4                  TurboTax Business Fed and Efile 2013            1   \n",
      "...                                                 ...          ...   \n",
      "4679                          Pirate Poppers [Download]            5   \n",
      "4680                                  BioShock Infinite            1   \n",
      "4681         YOU DON'T KNOW JACK Volume 1 XL [Download]            5   \n",
      "4682                       Kentucky Route Zero Complete            5   \n",
      "4683  Battlefield 4: Premium Season Pass - PS3/ PS4 ...            5   \n",
      "\n",
      "      helpful_votes  total_votes vine verified_purchase  \\\n",
      "0                33           36    N                 N   \n",
      "1                67           77    N                 N   \n",
      "2                 3            3    N                 Y   \n",
      "3                 3            4    N                 Y   \n",
      "4                 4            8    N                 N   \n",
      "...             ...          ...  ...               ...   \n",
      "4679              0            0    N                 Y   \n",
      "4680              3           10    N                 Y   \n",
      "4681              2            2    N                 N   \n",
      "4682              4            4    N                 Y   \n",
      "4683              0            0    N                 Y   \n",
      "\n",
      "                                        review_headline  \\\n",
      "0                           Just Switched from Qucken 7   \n",
      "1                                    A pain in the rear   \n",
      "2       Excellent Design Software, Can't Beat the Price   \n",
      "3     OMG.  Hours of wasted time dealing with Adobe ...   \n",
      "4                                          Not for Macs   \n",
      "...                                                 ...   \n",
      "4679                                     Pirate Poppers   \n",
      "4680                   What a complete waste of my time   \n",
      "4681                   Oh I wish they had this for mac!   \n",
      "4682            Haunting game for fans of mood and tone   \n",
      "4683                           expand the best game out   \n",
      "\n",
      "                                            review_body  year review_date  \\\n",
      "0     Like so many, I've been holding my breath hopi...  2014  2014-01-15   \n",
      "1     Avast used to be good, but now there are popup...  2014  2014-01-15   \n",
      "2     At first I was hesitant to purchase the produc...  2014  2014-01-15   \n",
      "3     Great if your video clips are only 30 seconds,...  2014  2014-01-15   \n",
      "4     Apparently people with small business partners...  2014  2014-01-15   \n",
      "...                                                 ...   ...         ...   \n",
      "4679  This is the second time I have purchased this ...  2014  2014-05-06   \n",
      "4680  Whatever happened to the old days when you cou...  2014  2014-05-06   \n",
      "4681  Had a flash back -- this is a great price defi...  2014  2014-05-06   \n",
      "4682  This game haunts my dreams. The whole experien...  2014  2014-05-06   \n",
      "4683  have not got to this yet due to still working ...  2014  2014-05-06   \n",
      "\n",
      "         product_category  \n",
      "0        Digital_Software  \n",
      "1        Digital_Software  \n",
      "2        Digital_Software  \n",
      "3        Digital_Software  \n",
      "4        Digital_Software  \n",
      "...                   ...  \n",
      "4679  Digital_Video_Games  \n",
      "4680  Digital_Video_Games  \n",
      "4681  Digital_Video_Games  \n",
      "4682  Digital_Video_Games  \n",
      "4683  Digital_Video_Games  \n",
      "\n",
      "[5000 rows x 16 columns]\n"
     ]
    }
   ],
   "source": [
    "print(next(chunk_iter))"
   ]
  },
  {
   "cell_type": "code",
   "execution_count": null,
   "metadata": {},
   "outputs": [],
   "source": [
    "%%javascript\n",
    "Jupyter.notebook.save_checkpoint();\n",
    "Jupyter.notebook.session.delete();"
   ]
  }
 ],
 "metadata": {
  "kernelspec": {
   "display_name": "conda_python3",
   "language": "python",
   "name": "conda_python3"
  },
  "language_info": {
   "codemirror_mode": {
    "name": "ipython",
    "version": 3
   },
   "file_extension": ".py",
   "mimetype": "text/x-python",
   "name": "python",
   "nbconvert_exporter": "python",
   "pygments_lexer": "ipython3",
   "version": "3.6.10"
  }
 },
 "nbformat": 4,
 "nbformat_minor": 4
}
