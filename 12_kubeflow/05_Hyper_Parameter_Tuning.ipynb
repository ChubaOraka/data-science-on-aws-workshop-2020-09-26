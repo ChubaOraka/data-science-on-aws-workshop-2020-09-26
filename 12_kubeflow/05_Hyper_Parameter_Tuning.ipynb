{
 "cells": [
  {
   "cell_type": "markdown",
   "metadata": {},
   "source": [
    "# Hyper-Parameter Tuning with Kubeflow"
   ]
  },
  {
   "cell_type": "markdown",
   "metadata": {},
   "source": [
    "Hyperparameter optimization or tuning chooses a set of optimal hyperparameters, parameters that control the learning process, for a learning algorithm. The set of hyperparameters yield an optimal model that minimizes a pre-defined loss function on given test data. \n",
    "\n",
    "There are many approaches for HPO: \n",
    "- grid search\n",
    "- random search\n",
    "- bayesian optimization\n",
    "- gradient-based optimization\n",
    "- evolutionary optimization\n",
    "- population based training\n"
   ]
  },
  {
   "cell_type": "markdown",
   "metadata": {},
   "source": [
    "# Katib"
   ]
  },
  {
   "cell_type": "markdown",
   "metadata": {},
   "source": [
    "The [Katib](https://github.com/kubeflow/katib) project is inspired by the [Google Vizier Paper](https://static.googleusercontent.com/media/research.google.com/en//pubs/archive/46180.pdf). \n",
    "\n",
    "Katib is a scalable and flexible hyperparameter tuning framework and is tightly integrated with Kubernetes. It does not depend on any specific deep learning framework (such as TensorFlow, MXNet, or PyTorch).\n",
    "\n",
    "Here are some notes on Katib:\n",
    "* Optimizes a given objective metric such as validation accuracy \n",
    "* Supports Int, Double, Discrete, and Categorical parameter ranges\n",
    "* Option for early stopping"
   ]
  },
  {
   "cell_type": "markdown",
   "metadata": {},
   "source": [
    "# Hyper-Parameter Tuning Examples "
   ]
  },
  {
   "cell_type": "markdown",
   "metadata": {},
   "source": [
    "With Kubeflow Katib, we will run popular hyper-parameter tuning algorithms including `random search`, `grid search`, and `bayesian optimization`."
   ]
  },
  {
   "cell_type": "markdown",
   "metadata": {},
   "source": [
    "# Random Search"
   ]
  },
  {
   "cell_type": "code",
   "execution_count": 1,
   "metadata": {},
   "outputs": [
    {
     "name": "stdout",
     "output_type": "stream",
     "text": [
      "\u001b[94mapiVersion\u001b[39;49;00m: \u001b[33m\"\u001b[39;49;00m\u001b[33mkubeflow.org/v1alpha3\u001b[39;49;00m\u001b[33m\"\u001b[39;49;00m\r\n",
      "\u001b[94mkind\u001b[39;49;00m: Experiment\r\n",
      "\u001b[94mmetadata\u001b[39;49;00m:\r\n",
      "  \u001b[94mlabels\u001b[39;49;00m:\r\n",
      "    \u001b[94mcontroller-tools.k8s.io\u001b[39;49;00m: \u001b[33m\"\u001b[39;49;00m\u001b[33m1.0\u001b[39;49;00m\u001b[33m\"\u001b[39;49;00m\r\n",
      "  \u001b[94mname\u001b[39;49;00m: random-example\r\n",
      "\u001b[94mspec\u001b[39;49;00m:\r\n",
      "  \u001b[94mobjective\u001b[39;49;00m:\r\n",
      "    \u001b[94mtype\u001b[39;49;00m: maximize\r\n",
      "    \u001b[94mgoal\u001b[39;49;00m: 0.99\r\n",
      "    \u001b[94mobjectiveMetricName\u001b[39;49;00m: Validation-accuracy\r\n",
      "    \u001b[94madditionalMetricNames\u001b[39;49;00m:\r\n",
      "      - accuracy\r\n",
      "  \u001b[94malgorithm\u001b[39;49;00m:\r\n",
      "    \u001b[94malgorithmName\u001b[39;49;00m: random\r\n",
      "  \u001b[94mparallelTrialCount\u001b[39;49;00m: 3\r\n",
      "  \u001b[94mmaxTrialCount\u001b[39;49;00m: 3\r\n",
      "  \u001b[94mmaxFailedTrialCount\u001b[39;49;00m: 3\r\n",
      "  \u001b[94mparameters\u001b[39;49;00m:\r\n",
      "    - \u001b[94mname\u001b[39;49;00m: --lr\r\n",
      "      \u001b[94mparameterType\u001b[39;49;00m: double\r\n",
      "      \u001b[94mfeasibleSpace\u001b[39;49;00m:\r\n",
      "        \u001b[94mmin\u001b[39;49;00m: \u001b[33m\"\u001b[39;49;00m\u001b[33m0.01\u001b[39;49;00m\u001b[33m\"\u001b[39;49;00m\r\n",
      "        \u001b[94mmax\u001b[39;49;00m: \u001b[33m\"\u001b[39;49;00m\u001b[33m0.03\u001b[39;49;00m\u001b[33m\"\u001b[39;49;00m\r\n",
      "    - \u001b[94mname\u001b[39;49;00m: --num-layers\r\n",
      "      \u001b[94mparameterType\u001b[39;49;00m: int\r\n",
      "      \u001b[94mfeasibleSpace\u001b[39;49;00m:\r\n",
      "        \u001b[94mmin\u001b[39;49;00m: \u001b[33m\"\u001b[39;49;00m\u001b[33m2\u001b[39;49;00m\u001b[33m\"\u001b[39;49;00m\r\n",
      "        \u001b[94mmax\u001b[39;49;00m: \u001b[33m\"\u001b[39;49;00m\u001b[33m5\u001b[39;49;00m\u001b[33m\"\u001b[39;49;00m\r\n",
      "    - \u001b[94mname\u001b[39;49;00m: --optimizer\r\n",
      "      \u001b[94mparameterType\u001b[39;49;00m: categorical\r\n",
      "      \u001b[94mfeasibleSpace\u001b[39;49;00m:\r\n",
      "        \u001b[94mlist\u001b[39;49;00m:\r\n",
      "        - sgd\r\n",
      "        - adam\r\n",
      "        - ftrl\r\n",
      "  \u001b[94mtrialTemplate\u001b[39;49;00m:\r\n",
      "    \u001b[94mgoTemplate\u001b[39;49;00m:\r\n",
      "        \u001b[94mrawTemplate\u001b[39;49;00m: |-\r\n",
      "          \u001b[31mapiVersion: batch/v1\u001b[39;49;00m\r\n",
      "          \u001b[31mkind: Job\u001b[39;49;00m\r\n",
      "          \u001b[31mmetadata:\u001b[39;49;00m\r\n",
      "            \u001b[31mname: {{.Trial}}\u001b[39;49;00m\r\n",
      "            \u001b[31mnamespace: {{.NameSpace}}\u001b[39;49;00m\r\n",
      "          \u001b[31mspec:\u001b[39;49;00m\r\n",
      "            \u001b[31mtemplate:\u001b[39;49;00m\r\n",
      "              \u001b[31mspec:\u001b[39;49;00m\r\n",
      "                \u001b[31mcontainers:\u001b[39;49;00m\r\n",
      "                \u001b[31m- name: {{.Trial}}\u001b[39;49;00m\r\n",
      "                  \u001b[31mimage: docker.io/katib/mxnet-mnist-example\u001b[39;49;00m\r\n",
      "                  \u001b[31mcommand:\u001b[39;49;00m\r\n",
      "                  \u001b[31m- \"python\"\u001b[39;49;00m\r\n",
      "                  \u001b[31m- \"/mxnet/example/image-classification/train_mnist.py\"\u001b[39;49;00m\r\n",
      "                  \u001b[31m- \"--batch-size=64\"\u001b[39;49;00m\r\n",
      "                  \u001b[31m{{- with .HyperParameters}}\u001b[39;49;00m\r\n",
      "                  \u001b[31m{{- range .}}\u001b[39;49;00m\r\n",
      "                  \u001b[31m- \"{{.Name}}={{.Value}}\"\u001b[39;49;00m\r\n",
      "                  \u001b[31m{{- end}}\u001b[39;49;00m\r\n",
      "                  \u001b[31m{{- end}}\u001b[39;49;00m\r\n",
      "                \u001b[31mrestartPolicy: Never\u001b[39;49;00m\r\n"
     ]
    }
   ],
   "source": [
    "!pygmentize ./hyper-parameter-tuning/random-search-example.yaml"
   ]
  },
  {
   "cell_type": "code",
   "execution_count": 2,
   "metadata": {},
   "outputs": [
    {
     "name": "stdout",
     "output_type": "stream",
     "text": [
      "experiment.kubeflow.org/random-example created\r\n"
     ]
    }
   ],
   "source": [
    "!kubectl create -f ./hyper-parameter-tuning/random-search-example.yaml"
   ]
  },
  {
   "cell_type": "markdown",
   "metadata": {},
   "source": [
    "If you check manifest, you will see\n",
    "\n",
    "\n",
    "```yaml\n",
    "parameters:\n",
    "- name: --lr\n",
    "  parameterType: double\n",
    "  feasibleSpace:\n",
    "    min: \"0.01\"\n",
    "    max: \"0.03\"\n",
    "- name: --num-layers\n",
    "  parameterType: int\n",
    "  feasibleSpace:\n",
    "    min: \"2\"\n",
    "    max: \"5\"\n",
    "- name: --optimizer\n",
    "  parameterType: categorical\n",
    "  feasibleSpace:\n",
    "    list:\n",
    "    - sgd\n",
    "    - adam\n",
    "    - ftrl\n",
    "```\n",
    "\n",
    "\n",
    "This job generates 3 hyperparameters, parameter type and range are also listed.\n",
    "\n",
    "* --lr (Learning Rate) - type: double\n",
    "* --num-layers (Number of NN Layer) - type: int\n",
    "* --optimizer (optimizer) - type: categorical"
   ]
  },
  {
   "cell_type": "markdown",
   "metadata": {},
   "source": [
    "The demo should start an experiment and run three jobs with different parameters. You can run following command to check job status.\n",
    "\n",
    "When the `spec.Status.Condition` changes to Completed, the experiment is finished.\n"
   ]
  },
  {
   "cell_type": "code",
   "execution_count": 3,
   "metadata": {},
   "outputs": [
    {
     "name": "stdout",
     "output_type": "stream",
     "text": [
      "Name:         random-example\r\n",
      "Namespace:    anonymous\r\n",
      "Labels:       controller-tools.k8s.io=1.0\r\n",
      "Annotations:  <none>\r\n",
      "API Version:  kubeflow.org/v1alpha3\r\n",
      "Kind:         Experiment\r\n",
      "Metadata:\r\n",
      "  Creation Timestamp:  2020-09-26T22:57:39Z\r\n",
      "  Finalizers:\r\n",
      "    update-prometheus-metrics\r\n",
      "  Generation:        2\r\n",
      "  Resource Version:  37836\r\n",
      "  Self Link:         /apis/kubeflow.org/v1alpha3/namespaces/anonymous/experiments/random-example\r\n",
      "  UID:               7b73470e-abf9-41a6-9042-d87f4aaa3c0f\r\n",
      "Spec:\r\n",
      "  Algorithm:\r\n",
      "    Algorithm Name:        random\r\n",
      "    Algorithm Settings:    <nil>\r\n",
      "  Max Failed Trial Count:  3\r\n",
      "  Max Trial Count:         3\r\n",
      "  Metrics Collector Spec:\r\n",
      "    Collector:\r\n",
      "      Kind:  StdOut\r\n",
      "  Objective:\r\n",
      "    Additional Metric Names:\r\n",
      "      accuracy\r\n",
      "    Goal:                   0.99\r\n",
      "    Objective Metric Name:  Validation-accuracy\r\n",
      "    Type:                   maximize\r\n",
      "  Parallel Trial Count:     3\r\n",
      "  Parameters:\r\n",
      "    Feasible Space:\r\n",
      "      Max:           0.03\r\n",
      "      Min:           0.01\r\n",
      "    Name:            --lr\r\n",
      "    Parameter Type:  double\r\n",
      "    Feasible Space:\r\n",
      "      Max:           5\r\n",
      "      Min:           2\r\n",
      "    Name:            --num-layers\r\n",
      "    Parameter Type:  int\r\n",
      "    Feasible Space:\r\n",
      "      List:\r\n",
      "        sgd\r\n",
      "        adam\r\n",
      "        ftrl\r\n",
      "    Name:            --optimizer\r\n",
      "    Parameter Type:  categorical\r\n",
      "  Trial Template:\r\n",
      "    Go Template:\r\n",
      "      Raw Template:  apiVersion: batch/v1\r\n",
      "kind: Job\r\n",
      "metadata:\r\n",
      "  name: {{.Trial}}\r\n",
      "  namespace: {{.NameSpace}}\r\n",
      "spec:\r\n",
      "  template:\r\n",
      "    spec:\r\n",
      "      containers:\r\n",
      "      - name: {{.Trial}}\r\n",
      "        image: docker.io/katib/mxnet-mnist-example\r\n",
      "        command:\r\n",
      "        - \"python\"\r\n",
      "        - \"/mxnet/example/image-classification/train_mnist.py\"\r\n",
      "        - \"--batch-size=64\"\r\n",
      "        {{- with .HyperParameters}}\r\n",
      "        {{- range .}}\r\n",
      "        - \"{{.Name}}={{.Value}}\"\r\n",
      "        {{- end}}\r\n",
      "        {{- end}}\r\n",
      "      restartPolicy: Never\r\n",
      "Status:\r\n",
      "  Completion Time:  <nil>\r\n",
      "  Conditions:\r\n",
      "    Last Transition Time:  2020-09-26T22:57:39Z\r\n",
      "    Last Update Time:      2020-09-26T22:57:39Z\r\n",
      "    Message:               Experiment is created\r\n",
      "    Reason:                ExperimentCreated\r\n",
      "    Status:                True\r\n",
      "    Type:                  Created\r\n",
      "  Current Optimal Trial:\r\n",
      "    Best Trial Name:  \r\n",
      "    Observation:\r\n",
      "      Metrics:              <nil>\r\n",
      "    Parameter Assignments:  <nil>\r\n",
      "  Start Time:               2020-09-26T22:57:39Z\r\n",
      "Events:                     <none>\r\n"
     ]
    }
   ],
   "source": [
    "!kubectl describe experiment random-example"
   ]
  },
  {
   "cell_type": "markdown",
   "metadata": {},
   "source": [
    "# Navigate to Katib to Monitor the Hyper-Parameter Tuning Jobs\n",
    "\n",
    "You can monitor your results in the Katib UI. If you installed Kubeflow using the deployment guide, you can access the Katib UI at `https://<your kubeflow endpoint>/katib/`\n",
    "\n",
    "For `random-experiment`, please go to `HP (HypterParameter)` -> `Monitor` -> `random-experiment`.\n",
    "\n",
    "![katib-experiment-selection.png](./img/katib-experiment-selection.png)"
   ]
  },
  {
   "cell_type": "markdown",
   "metadata": {},
   "source": [
    "### Pick up best parameters in from results\n",
    "\n",
    "Once you click job and go the detail page, you will see different combination of parameters and accuracy.\n",
    "\n",
    "\n",
    "| trialName  | Validation-accuracy \t| accuracy \t| --lr \t| --num-layers \t| --optimizer|\n",
    "|----------------------------|----------|----------|----------------------|---|------|\n",
    "| random-experiment-rfwwbnsd | 0.974920 | 0.984844 | 0.013831565266960293 | 4 | sgd  |\n",
    "| random-experiment-vxgwlgqq | 0.113854 | 0.116646 | 0.024225789898529138 | 4 | ftrl |\n",
    "| random-experiment-wclrwlcq | 0.979697 | 0.998437 | 0.021916171239020756 | 4 | sgd  |\n",
    "| random-experiment-7lsc4pwb | 0.113854 | 0.115312 | 0.024163810384272653 | 5 | ftrl |\n",
    "| random-experiment-86vv9vgv | 0.963475 | 0.971562 | 0.02943228249244735  | 3 | adam |\n",
    "| random-experiment-jh884cxz | 0.981091 | 0.999219 | 0.022372025623908262 | 2 | sgd  |\n",
    "| random-experiment-sgtwhrgz | 0.980693 | 0.997969 | 0.016641686851083654 | 4 | sgd  |\n",
    "| random-experiment-c6vvz6dv | 0.980792 | 0.998906 | 0.0264125850165842   | 3 | sgd  |\n",
    "| random-experiment-vqs2xmfj | 0.113854 | 0.105313 | 0.026629394628228185 | 4 | ftrl |\n",
    "| random-experiment-bv8lsh2m | 0.980195 | 0.999375 | 0.021769570793012488 | 2 | sgd  |\n",
    "| random-experiment-7vbnqc7z | 0.113854 | 0.102188 | 0.025079750575740783 | 4 | ftrl |\n",
    "| random-experiment-kwj9drmg | 0.979498 | 0.995469 | 0.014985919312945063 | 4 | sgd  |\n",
    "\n",
    "\n",
    "![katib-experiment-result.png](./img/katib-experiment-result.png)\n",
    "\n",
    "You can also click trail name to check Trial data."
   ]
  },
  {
   "cell_type": "markdown",
   "metadata": {},
   "source": [
    "> Note: All rest examples are different optimization algorithms.  \n",
    "> The way to submit the job and check job lifecycle is same as random-search-example we did."
   ]
  },
  {
   "cell_type": "markdown",
   "metadata": {},
   "source": [
    "# Grid Search"
   ]
  },
  {
   "cell_type": "code",
   "execution_count": 4,
   "metadata": {},
   "outputs": [
    {
     "name": "stdout",
     "output_type": "stream",
     "text": [
      "\u001b[94mapiVersion\u001b[39;49;00m: \u001b[33m\"\u001b[39;49;00m\u001b[33mkubeflow.org/v1alpha3\u001b[39;49;00m\u001b[33m\"\u001b[39;49;00m\r\n",
      "\u001b[94mkind\u001b[39;49;00m: Experiment\r\n",
      "\u001b[94mmetadata\u001b[39;49;00m:\r\n",
      "  \u001b[94mlabels\u001b[39;49;00m:\r\n",
      "    \u001b[94mcontroller-tools.k8s.io\u001b[39;49;00m: \u001b[33m\"\u001b[39;49;00m\u001b[33m1.0\u001b[39;49;00m\u001b[33m\"\u001b[39;49;00m\r\n",
      "  \u001b[94mname\u001b[39;49;00m: grid-example\r\n",
      "\u001b[94mspec\u001b[39;49;00m:\r\n",
      "  \u001b[94mobjective\u001b[39;49;00m:\r\n",
      "    \u001b[94mtype\u001b[39;49;00m: maximize\r\n",
      "    \u001b[94mgoal\u001b[39;49;00m: 0.99\r\n",
      "    \u001b[94mobjectiveMetricName\u001b[39;49;00m: Validation-accuracy\r\n",
      "    \u001b[94madditionalMetricNames\u001b[39;49;00m:\r\n",
      "      - accuracy\r\n",
      "  \u001b[94malgorithm\u001b[39;49;00m:\r\n",
      "    \u001b[94malgorithmName\u001b[39;49;00m: grid\r\n",
      "  \u001b[94mparallelTrialCount\u001b[39;49;00m: 3\r\n",
      "  \u001b[94mmaxTrialCount\u001b[39;49;00m: 3\r\n",
      "  \u001b[94mmaxFailedTrialCount\u001b[39;49;00m: 3\r\n",
      "  \u001b[94mparameters\u001b[39;49;00m:\r\n",
      "    - \u001b[94mname\u001b[39;49;00m: --lr\r\n",
      "      \u001b[94mparameterType\u001b[39;49;00m: double\r\n",
      "      \u001b[94mfeasibleSpace\u001b[39;49;00m:\r\n",
      "        \u001b[94mmin\u001b[39;49;00m: \u001b[33m\"\u001b[39;49;00m\u001b[33m0.001\u001b[39;49;00m\u001b[33m\"\u001b[39;49;00m\r\n",
      "        \u001b[94mmax\u001b[39;49;00m: \u001b[33m\"\u001b[39;49;00m\u001b[33m0.01\u001b[39;49;00m\u001b[33m\"\u001b[39;49;00m\r\n",
      "        \u001b[94mstep\u001b[39;49;00m: \u001b[33m\"\u001b[39;49;00m\u001b[33m0.001\u001b[39;49;00m\u001b[33m\"\u001b[39;49;00m\r\n",
      "    - \u001b[94mname\u001b[39;49;00m: --num-layers\r\n",
      "      \u001b[94mparameterType\u001b[39;49;00m: int\r\n",
      "      \u001b[94mfeasibleSpace\u001b[39;49;00m:\r\n",
      "        \u001b[94mmin\u001b[39;49;00m: \u001b[33m\"\u001b[39;49;00m\u001b[33m2\u001b[39;49;00m\u001b[33m\"\u001b[39;49;00m\r\n",
      "        \u001b[94mmax\u001b[39;49;00m: \u001b[33m\"\u001b[39;49;00m\u001b[33m5\u001b[39;49;00m\u001b[33m\"\u001b[39;49;00m\r\n",
      "    - \u001b[94mname\u001b[39;49;00m: --optimizer\r\n",
      "      \u001b[94mparameterType\u001b[39;49;00m: categorical\r\n",
      "      \u001b[94mfeasibleSpace\u001b[39;49;00m:\r\n",
      "        \u001b[94mlist\u001b[39;49;00m:\r\n",
      "        - sgd\r\n",
      "        - adam\r\n",
      "        - ftrl\r\n",
      "  \u001b[94mtrialTemplate\u001b[39;49;00m:\r\n",
      "    \u001b[94mgoTemplate\u001b[39;49;00m:\r\n",
      "        \u001b[94mrawTemplate\u001b[39;49;00m: |-\r\n",
      "          \u001b[31mapiVersion: batch/v1\u001b[39;49;00m\r\n",
      "          \u001b[31mkind: Job\u001b[39;49;00m\r\n",
      "          \u001b[31mmetadata:\u001b[39;49;00m\r\n",
      "            \u001b[31mname: {{.Trial}}\u001b[39;49;00m\r\n",
      "            \u001b[31mnamespace: {{.NameSpace}}\u001b[39;49;00m\r\n",
      "          \u001b[31mspec:\u001b[39;49;00m\r\n",
      "            \u001b[31mtemplate:\u001b[39;49;00m\r\n",
      "              \u001b[31mspec:\u001b[39;49;00m\r\n",
      "                \u001b[31mcontainers:\u001b[39;49;00m\r\n",
      "                \u001b[31m- name: {{.Trial}}\u001b[39;49;00m\r\n",
      "                  \u001b[31mimage: docker.io/katib/mxnet-mnist-example\u001b[39;49;00m\r\n",
      "                  \u001b[31mcommand:\u001b[39;49;00m\r\n",
      "                  \u001b[31m- \"python\"\u001b[39;49;00m\r\n",
      "                  \u001b[31m- \"/mxnet/example/image-classification/train_mnist.py\"\u001b[39;49;00m\r\n",
      "                  \u001b[31m- \"--batch-size=64\"\u001b[39;49;00m\r\n",
      "                  \u001b[31m{{- with .HyperParameters}}\u001b[39;49;00m\r\n",
      "                  \u001b[31m{{- range .}}\u001b[39;49;00m\r\n",
      "                  \u001b[31m- \"{{.Name}}={{.Value}}\"\u001b[39;49;00m\r\n",
      "                  \u001b[31m{{- end}}\u001b[39;49;00m\r\n",
      "                  \u001b[31m{{- end}}\u001b[39;49;00m\r\n",
      "                \u001b[31mrestartPolicy: Never\u001b[39;49;00m\r\n"
     ]
    }
   ],
   "source": [
    "!pygmentize ./hyper-parameter-tuning/grid-example.yaml"
   ]
  },
  {
   "cell_type": "code",
   "execution_count": 5,
   "metadata": {},
   "outputs": [
    {
     "name": "stdout",
     "output_type": "stream",
     "text": [
      "experiment.kubeflow.org/grid-example created\r\n"
     ]
    }
   ],
   "source": [
    "!kubectl create -f ./hyper-parameter-tuning/grid-example.yaml"
   ]
  },
  {
   "cell_type": "code",
   "execution_count": 6,
   "metadata": {},
   "outputs": [
    {
     "name": "stdout",
     "output_type": "stream",
     "text": [
      "Name:         grid-example\r\n",
      "Namespace:    anonymous\r\n",
      "Labels:       controller-tools.k8s.io=1.0\r\n",
      "Annotations:  <none>\r\n",
      "API Version:  kubeflow.org/v1alpha3\r\n",
      "Kind:         Experiment\r\n",
      "Metadata:\r\n",
      "  Creation Timestamp:  2020-09-26T22:57:42Z\r\n",
      "  Finalizers:\r\n",
      "    update-prometheus-metrics\r\n",
      "  Generation:        2\r\n",
      "  Resource Version:  37877\r\n",
      "  Self Link:         /apis/kubeflow.org/v1alpha3/namespaces/anonymous/experiments/grid-example\r\n",
      "  UID:               72b65926-e1a7-4491-bc69-2933eb94cb58\r\n",
      "Spec:\r\n",
      "  Algorithm:\r\n",
      "    Algorithm Name:        grid\r\n",
      "    Algorithm Settings:    <nil>\r\n",
      "  Max Failed Trial Count:  3\r\n",
      "  Max Trial Count:         3\r\n",
      "  Metrics Collector Spec:\r\n",
      "    Collector:\r\n",
      "      Kind:  StdOut\r\n",
      "  Objective:\r\n",
      "    Additional Metric Names:\r\n",
      "      accuracy\r\n",
      "    Goal:                   0.99\r\n",
      "    Objective Metric Name:  Validation-accuracy\r\n",
      "    Type:                   maximize\r\n",
      "  Parallel Trial Count:     3\r\n",
      "  Parameters:\r\n",
      "    Feasible Space:\r\n",
      "      Max:           0.01\r\n",
      "      Min:           0.001\r\n",
      "      Step:          0.001\r\n",
      "    Name:            --lr\r\n",
      "    Parameter Type:  double\r\n",
      "    Feasible Space:\r\n",
      "      Max:           5\r\n",
      "      Min:           2\r\n",
      "    Name:            --num-layers\r\n",
      "    Parameter Type:  int\r\n",
      "    Feasible Space:\r\n",
      "      List:\r\n",
      "        sgd\r\n",
      "        adam\r\n",
      "        ftrl\r\n",
      "    Name:            --optimizer\r\n",
      "    Parameter Type:  categorical\r\n",
      "  Trial Template:\r\n",
      "    Go Template:\r\n",
      "      Raw Template:  apiVersion: batch/v1\r\n",
      "kind: Job\r\n",
      "metadata:\r\n",
      "  name: {{.Trial}}\r\n",
      "  namespace: {{.NameSpace}}\r\n",
      "spec:\r\n",
      "  template:\r\n",
      "    spec:\r\n",
      "      containers:\r\n",
      "      - name: {{.Trial}}\r\n",
      "        image: docker.io/katib/mxnet-mnist-example\r\n",
      "        command:\r\n",
      "        - \"python\"\r\n",
      "        - \"/mxnet/example/image-classification/train_mnist.py\"\r\n",
      "        - \"--batch-size=64\"\r\n",
      "        {{- with .HyperParameters}}\r\n",
      "        {{- range .}}\r\n",
      "        - \"{{.Name}}={{.Value}}\"\r\n",
      "        {{- end}}\r\n",
      "        {{- end}}\r\n",
      "      restartPolicy: Never\r\n",
      "Status:\r\n",
      "  Completion Time:  <nil>\r\n",
      "  Conditions:\r\n",
      "    Last Transition Time:  2020-09-26T22:57:42Z\r\n",
      "    Last Update Time:      2020-09-26T22:57:42Z\r\n",
      "    Message:               Experiment is created\r\n",
      "    Reason:                ExperimentCreated\r\n",
      "    Status:                True\r\n",
      "    Type:                  Created\r\n",
      "  Current Optimal Trial:\r\n",
      "    Best Trial Name:  \r\n",
      "    Observation:\r\n",
      "      Metrics:              <nil>\r\n",
      "    Parameter Assignments:  <nil>\r\n",
      "  Start Time:               2020-09-26T22:57:42Z\r\n",
      "Events:                     <none>\r\n"
     ]
    }
   ],
   "source": [
    "!kubectl describe experiment grid-example"
   ]
  },
  {
   "cell_type": "markdown",
   "metadata": {},
   "source": [
    "# Bayesian\n",
    "\n",
    "BayesOpt: A toolbox for bayesian optimization, experimental design and stochastic bandits."
   ]
  },
  {
   "cell_type": "code",
   "execution_count": 7,
   "metadata": {},
   "outputs": [
    {
     "name": "stdout",
     "output_type": "stream",
     "text": [
      "\u001b[94mapiVersion\u001b[39;49;00m: \u001b[33m\"\u001b[39;49;00m\u001b[33mkubeflow.org/v1alpha3\u001b[39;49;00m\u001b[33m\"\u001b[39;49;00m\r\n",
      "\u001b[94mkind\u001b[39;49;00m: Experiment\r\n",
      "\u001b[94mmetadata\u001b[39;49;00m:\r\n",
      "  \u001b[94mlabels\u001b[39;49;00m:\r\n",
      "    \u001b[94mcontroller-tools.k8s.io\u001b[39;49;00m: \u001b[33m\"\u001b[39;49;00m\u001b[33m1.0\u001b[39;49;00m\u001b[33m\"\u001b[39;49;00m\r\n",
      "  \u001b[94mname\u001b[39;49;00m: bayesopt-example\r\n",
      "\u001b[94mspec\u001b[39;49;00m:\r\n",
      "  \u001b[94mobjective\u001b[39;49;00m:\r\n",
      "    \u001b[94mtype\u001b[39;49;00m: maximize\r\n",
      "    \u001b[94mgoal\u001b[39;49;00m: 0.99\r\n",
      "    \u001b[94mobjectiveMetricName\u001b[39;49;00m: Validation-accuracy\r\n",
      "    \u001b[94madditionalMetricNames\u001b[39;49;00m:\r\n",
      "      - accuracy\r\n",
      "  \u001b[94malgorithm\u001b[39;49;00m:\r\n",
      "    \u001b[94malgorithmName\u001b[39;49;00m: bayesianoptimization\r\n",
      "    \u001b[94malgorithmSettings\u001b[39;49;00m:\r\n",
      "      - \u001b[94mname\u001b[39;49;00m: \u001b[33m\"\u001b[39;49;00m\u001b[33mrandom_state\u001b[39;49;00m\u001b[33m\"\u001b[39;49;00m\r\n",
      "        \u001b[94mvalue\u001b[39;49;00m: \u001b[33m\"\u001b[39;49;00m\u001b[33m10\u001b[39;49;00m\u001b[33m\"\u001b[39;49;00m\r\n",
      "  \u001b[94mparallelTrialCount\u001b[39;49;00m: 3\r\n",
      "  \u001b[94mmaxTrialCount\u001b[39;49;00m: 3\r\n",
      "  \u001b[94mmaxFailedTrialCount\u001b[39;49;00m: 3\r\n",
      "  \u001b[94mparameters\u001b[39;49;00m:\r\n",
      "    - \u001b[94mname\u001b[39;49;00m: --lr\r\n",
      "      \u001b[94mparameterType\u001b[39;49;00m: double\r\n",
      "      \u001b[94mfeasibleSpace\u001b[39;49;00m:\r\n",
      "        \u001b[94mmin\u001b[39;49;00m: \u001b[33m\"\u001b[39;49;00m\u001b[33m0.01\u001b[39;49;00m\u001b[33m\"\u001b[39;49;00m\r\n",
      "        \u001b[94mmax\u001b[39;49;00m: \u001b[33m\"\u001b[39;49;00m\u001b[33m0.03\u001b[39;49;00m\u001b[33m\"\u001b[39;49;00m\r\n",
      "    - \u001b[94mname\u001b[39;49;00m: --num-layers\r\n",
      "      \u001b[94mparameterType\u001b[39;49;00m: int\r\n",
      "      \u001b[94mfeasibleSpace\u001b[39;49;00m:\r\n",
      "        \u001b[94mmin\u001b[39;49;00m: \u001b[33m\"\u001b[39;49;00m\u001b[33m2\u001b[39;49;00m\u001b[33m\"\u001b[39;49;00m\r\n",
      "        \u001b[94mmax\u001b[39;49;00m: \u001b[33m\"\u001b[39;49;00m\u001b[33m5\u001b[39;49;00m\u001b[33m\"\u001b[39;49;00m\r\n",
      "    - \u001b[94mname\u001b[39;49;00m: --optimizer\r\n",
      "      \u001b[94mparameterType\u001b[39;49;00m: categorical\r\n",
      "      \u001b[94mfeasibleSpace\u001b[39;49;00m:\r\n",
      "        \u001b[94mlist\u001b[39;49;00m:\r\n",
      "        - sgd\r\n",
      "        - adam\r\n",
      "        - ftrl\r\n",
      "  \u001b[94mtrialTemplate\u001b[39;49;00m:\r\n",
      "    \u001b[94mgoTemplate\u001b[39;49;00m:\r\n",
      "        \u001b[94mrawTemplate\u001b[39;49;00m: |-\r\n",
      "          \u001b[31mapiVersion: batch/v1\u001b[39;49;00m\r\n",
      "          \u001b[31mkind: Job\u001b[39;49;00m\r\n",
      "          \u001b[31mmetadata:\u001b[39;49;00m\r\n",
      "            \u001b[31mname: {{.Trial}}\u001b[39;49;00m\r\n",
      "            \u001b[31mnamespace: {{.NameSpace}}\u001b[39;49;00m\r\n",
      "          \u001b[31mspec:\u001b[39;49;00m\r\n",
      "            \u001b[31mtemplate:\u001b[39;49;00m\r\n",
      "              \u001b[31mspec:\u001b[39;49;00m\r\n",
      "                \u001b[31mcontainers:\u001b[39;49;00m\r\n",
      "                \u001b[31m- name: {{.Trial}}\u001b[39;49;00m\r\n",
      "                  \u001b[31mimage: docker.io/katib/mxnet-mnist-example\u001b[39;49;00m\r\n",
      "                  \u001b[31mcommand:\u001b[39;49;00m\r\n",
      "                  \u001b[31m- \"python\"\u001b[39;49;00m\r\n",
      "                  \u001b[31m- \"/mxnet/example/image-classification/train_mnist.py\"\u001b[39;49;00m\r\n",
      "                  \u001b[31m- \"--batch-size=64\"\u001b[39;49;00m\r\n",
      "                  \u001b[31m{{- with .HyperParameters}}\u001b[39;49;00m\r\n",
      "                  \u001b[31m{{- range .}}\u001b[39;49;00m\r\n",
      "                  \u001b[31m- \"{{.Name}}={{.Value}}\"\u001b[39;49;00m\r\n",
      "                  \u001b[31m{{- end}}\u001b[39;49;00m\r\n",
      "                  \u001b[31m{{- end}}\u001b[39;49;00m\r\n",
      "                \u001b[31mrestartPolicy: Never\u001b[39;49;00m\r\n"
     ]
    }
   ],
   "source": [
    "!pygmentize ./hyper-parameter-tuning/bayesopt-example.yaml"
   ]
  },
  {
   "cell_type": "code",
   "execution_count": 8,
   "metadata": {},
   "outputs": [
    {
     "name": "stdout",
     "output_type": "stream",
     "text": [
      "experiment.kubeflow.org/bayesopt-example created\r\n"
     ]
    }
   ],
   "source": [
    "!kubectl create -f ./hyper-parameter-tuning/bayesopt-example.yaml"
   ]
  },
  {
   "cell_type": "code",
   "execution_count": 9,
   "metadata": {},
   "outputs": [
    {
     "name": "stdout",
     "output_type": "stream",
     "text": [
      "Name:         bayesopt-example\r\n",
      "Namespace:    anonymous\r\n",
      "Labels:       controller-tools.k8s.io=1.0\r\n",
      "Annotations:  <none>\r\n",
      "API Version:  kubeflow.org/v1alpha3\r\n",
      "Kind:         Experiment\r\n",
      "Metadata:\r\n",
      "  Creation Timestamp:  2020-09-26T22:57:46Z\r\n",
      "  Finalizers:\r\n",
      "    update-prometheus-metrics\r\n",
      "  Generation:        1\r\n",
      "  Resource Version:  37925\r\n",
      "  Self Link:         /apis/kubeflow.org/v1alpha3/namespaces/anonymous/experiments/bayesopt-example\r\n",
      "  UID:               98d99397-b10d-4b49-8bb9-703f13d8d284\r\n",
      "Spec:\r\n",
      "  Algorithm:\r\n",
      "    Algorithm Name:  bayesianoptimization\r\n",
      "    Algorithm Settings:\r\n",
      "      Name:                random_state\r\n",
      "      Value:               10\r\n",
      "  Max Failed Trial Count:  3\r\n",
      "  Max Trial Count:         3\r\n",
      "  Metrics Collector Spec:\r\n",
      "    Collector:\r\n",
      "      Kind:  StdOut\r\n",
      "  Objective:\r\n",
      "    Additional Metric Names:\r\n",
      "      accuracy\r\n",
      "    Goal:                   0.99\r\n",
      "    Objective Metric Name:  Validation-accuracy\r\n",
      "    Type:                   maximize\r\n",
      "  Parallel Trial Count:     3\r\n",
      "  Parameters:\r\n",
      "    Feasible Space:\r\n",
      "      Max:           0.03\r\n",
      "      Min:           0.01\r\n",
      "    Name:            --lr\r\n",
      "    Parameter Type:  double\r\n",
      "    Feasible Space:\r\n",
      "      Max:           5\r\n",
      "      Min:           2\r\n",
      "    Name:            --num-layers\r\n",
      "    Parameter Type:  int\r\n",
      "    Feasible Space:\r\n",
      "      List:\r\n",
      "        sgd\r\n",
      "        adam\r\n",
      "        ftrl\r\n",
      "    Name:            --optimizer\r\n",
      "    Parameter Type:  categorical\r\n",
      "  Trial Template:\r\n",
      "    Go Template:\r\n",
      "      Raw Template:  apiVersion: batch/v1\r\n",
      "kind: Job\r\n",
      "metadata:\r\n",
      "  name: {{.Trial}}\r\n",
      "  namespace: {{.NameSpace}}\r\n",
      "spec:\r\n",
      "  template:\r\n",
      "    spec:\r\n",
      "      containers:\r\n",
      "      - name: {{.Trial}}\r\n",
      "        image: docker.io/katib/mxnet-mnist-example\r\n",
      "        command:\r\n",
      "        - \"python\"\r\n",
      "        - \"/mxnet/example/image-classification/train_mnist.py\"\r\n",
      "        - \"--batch-size=64\"\r\n",
      "        {{- with .HyperParameters}}\r\n",
      "        {{- range .}}\r\n",
      "        - \"{{.Name}}={{.Value}}\"\r\n",
      "        {{- end}}\r\n",
      "        {{- end}}\r\n",
      "      restartPolicy: Never\r\n",
      "Status:\r\n",
      "  Completion Time:  <nil>\r\n",
      "  Conditions:\r\n",
      "    Last Transition Time:  2020-09-26T22:57:46Z\r\n",
      "    Last Update Time:      2020-09-26T22:57:46Z\r\n",
      "    Message:               Experiment is created\r\n",
      "    Reason:                ExperimentCreated\r\n",
      "    Status:                True\r\n",
      "    Type:                  Created\r\n",
      "  Current Optimal Trial:\r\n",
      "    Best Trial Name:  \r\n",
      "    Observation:\r\n",
      "      Metrics:              <nil>\r\n",
      "    Parameter Assignments:  <nil>\r\n",
      "  Start Time:               2020-09-26T22:57:46Z\r\n",
      "Events:                     <none>\r\n"
     ]
    }
   ],
   "source": [
    "!kubectl describe experiment bayesopt-example"
   ]
  },
  {
   "cell_type": "markdown",
   "metadata": {},
   "source": [
    "# Navigate to Katib to Monitor All Hyper-Parameter Tuning Jobs\n",
    "![katib-experiment-selection.png](./img/katib-experiment-selection.png)"
   ]
  },
  {
   "cell_type": "code",
   "execution_count": null,
   "metadata": {},
   "outputs": [],
   "source": []
  }
 ],
 "metadata": {
  "kernelspec": {
   "display_name": "Python 3",
   "language": "python",
   "name": "python3"
  },
  "language_info": {
   "codemirror_mode": {
    "name": "ipython",
    "version": 3
   },
   "file_extension": ".py",
   "mimetype": "text/x-python",
   "name": "python",
   "nbconvert_exporter": "python",
   "pygments_lexer": "ipython3",
   "version": "3.6.8"
  }
 },
 "nbformat": 4,
 "nbformat_minor": 2
}
