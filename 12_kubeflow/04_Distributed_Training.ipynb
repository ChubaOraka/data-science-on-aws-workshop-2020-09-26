{
 "cells": [
  {
   "cell_type": "markdown",
   "metadata": {},
   "source": [
    "# Distributed Training with TensorFlow and PyTorch"
   ]
  },
  {
   "cell_type": "markdown",
   "metadata": {},
   "source": [
    "# Launch Distributed TensorFlow Training Job"
   ]
  },
  {
   "cell_type": "code",
   "execution_count": 1,
   "metadata": {},
   "outputs": [
    {
     "name": "stdout",
     "output_type": "stream",
     "text": [
      "\u001b[94mapiVersion\u001b[39;49;00m: \u001b[33m\"\u001b[39;49;00m\u001b[33mkubeflow.org/v1\u001b[39;49;00m\u001b[33m\"\u001b[39;49;00m\r\n",
      "\u001b[94mkind\u001b[39;49;00m: \u001b[33m\"\u001b[39;49;00m\u001b[33mTFJob\u001b[39;49;00m\u001b[33m\"\u001b[39;49;00m\r\n",
      "\u001b[94mmetadata\u001b[39;49;00m:\r\n",
      "  \u001b[94mname\u001b[39;49;00m: \u001b[33m\"\u001b[39;49;00m\u001b[33mdistributed-tensorflow-job\u001b[39;49;00m\u001b[33m\"\u001b[39;49;00m\r\n",
      "\u001b[94mspec\u001b[39;49;00m:\r\n",
      "  \u001b[94mtfReplicaSpecs\u001b[39;49;00m:\r\n",
      "    \u001b[94mPS\u001b[39;49;00m:\r\n",
      "      \u001b[94mreplicas\u001b[39;49;00m: 1\r\n",
      "      \u001b[94mrestartPolicy\u001b[39;49;00m: Never\r\n",
      "      \u001b[94mtemplate\u001b[39;49;00m:\r\n",
      "        \u001b[94mmetadata\u001b[39;49;00m:\r\n",
      "          \u001b[94mannotations\u001b[39;49;00m:\r\n",
      "            \u001b[94msidecar.istio.io/inject\u001b[39;49;00m: \u001b[33m\"\u001b[39;49;00m\u001b[33mfalse\u001b[39;49;00m\u001b[33m\"\u001b[39;49;00m\r\n",
      "        \u001b[94mspec\u001b[39;49;00m:\r\n",
      "          \u001b[94mcontainers\u001b[39;49;00m:\r\n",
      "            - \u001b[94mname\u001b[39;49;00m: tensorflow\r\n",
      "              \u001b[94mimage\u001b[39;49;00m: gcr.io/kubeflow-ci/tf-dist-mnist-test:1.0\r\n",
      "    \u001b[94mWorker\u001b[39;49;00m:\r\n",
      "      \u001b[94mreplicas\u001b[39;49;00m: 2\r\n",
      "      \u001b[94mrestartPolicy\u001b[39;49;00m: Never\r\n",
      "      \u001b[94mtemplate\u001b[39;49;00m:\r\n",
      "        \u001b[94mmetadata\u001b[39;49;00m:\r\n",
      "          \u001b[94mannotations\u001b[39;49;00m:\r\n",
      "            \u001b[94msidecar.istio.io/inject\u001b[39;49;00m: \u001b[33m\"\u001b[39;49;00m\u001b[33mfalse\u001b[39;49;00m\u001b[33m\"\u001b[39;49;00m\r\n",
      "        \u001b[94mspec\u001b[39;49;00m:\r\n",
      "          \u001b[94mcontainers\u001b[39;49;00m:\r\n",
      "            - \u001b[94mname\u001b[39;49;00m: tensorflow\r\n",
      "              \u001b[94mimage\u001b[39;49;00m: gcr.io/kubeflow-ci/tf-dist-mnist-test:1.0\r\n"
     ]
    }
   ],
   "source": [
    "!pygmentize ./distributed-training/distributed-tensorflow-job.yaml"
   ]
  },
  {
   "cell_type": "code",
   "execution_count": 2,
   "metadata": {},
   "outputs": [
    {
     "name": "stdout",
     "output_type": "stream",
     "text": [
      "tfjob.kubeflow.org/distributed-tensorflow-job created\r\n"
     ]
    }
   ],
   "source": [
    "!kubectl create -f distributed-training/distributed-tensorflow-job.yaml"
   ]
  },
  {
   "cell_type": "markdown",
   "metadata": {},
   "source": [
    "# View All TensorFlow Jobs"
   ]
  },
  {
   "cell_type": "code",
   "execution_count": 3,
   "metadata": {},
   "outputs": [
    {
     "name": "stdout",
     "output_type": "stream",
     "text": [
      "NAME                         STATE     AGE\r\n",
      "distributed-tensorflow-job   Created   1s\r\n"
     ]
    }
   ],
   "source": [
    "!kubectl get tfjob"
   ]
  },
  {
   "cell_type": "markdown",
   "metadata": {},
   "source": [
    "# Check TensorFlow Job Status"
   ]
  },
  {
   "cell_type": "code",
   "execution_count": 4,
   "metadata": {},
   "outputs": [
    {
     "name": "stdout",
     "output_type": "stream",
     "text": [
      "Name:         distributed-tensorflow-job\r\n",
      "Namespace:    anonymous\r\n",
      "Labels:       <none>\r\n",
      "Annotations:  <none>\r\n",
      "API Version:  kubeflow.org/v1\r\n",
      "Kind:         TFJob\r\n",
      "Metadata:\r\n",
      "  Creation Timestamp:  2020-09-26T22:57:08Z\r\n",
      "  Generation:          1\r\n",
      "  Resource Version:    37587\r\n",
      "  Self Link:           /apis/kubeflow.org/v1/namespaces/anonymous/tfjobs/distributed-tensorflow-job\r\n",
      "  UID:                 2405305d-0f57-42ee-923d-febcd05747fa\r\n",
      "Spec:\r\n",
      "  Tf Replica Specs:\r\n",
      "    PS:\r\n",
      "      Replicas:        1\r\n",
      "      Restart Policy:  Never\r\n",
      "      Template:\r\n",
      "        Metadata:\r\n",
      "          Annotations:\r\n",
      "            sidecar.istio.io/inject:  false\r\n",
      "        Spec:\r\n",
      "          Containers:\r\n",
      "            Image:  gcr.io/kubeflow-ci/tf-dist-mnist-test:1.0\r\n",
      "            Name:   tensorflow\r\n",
      "    Worker:\r\n",
      "      Replicas:        2\r\n",
      "      Restart Policy:  Never\r\n",
      "      Template:\r\n",
      "        Metadata:\r\n",
      "          Annotations:\r\n",
      "            sidecar.istio.io/inject:  false\r\n",
      "        Spec:\r\n",
      "          Containers:\r\n",
      "            Image:  gcr.io/kubeflow-ci/tf-dist-mnist-test:1.0\r\n",
      "            Name:   tensorflow\r\n",
      "Status:\r\n",
      "  Conditions:\r\n",
      "    Last Transition Time:  2020-09-26T22:57:08Z\r\n",
      "    Last Update Time:      2020-09-26T22:57:08Z\r\n",
      "    Message:               TFJob distributed-tensorflow-job is created.\r\n",
      "    Reason:                TFJobCreated\r\n",
      "    Status:                True\r\n",
      "    Type:                  Created\r\n",
      "  Replica Statuses:\r\n",
      "    PS:\r\n",
      "    Worker:\r\n",
      "  Start Time:  2020-09-26T22:57:08Z\r\n",
      "Events:\r\n",
      "  Type    Reason                   Age   From         Message\r\n",
      "  ----    ------                   ----  ----         -------\r\n",
      "  Normal  SuccessfulCreatePod      1s    tf-operator  Created pod: distributed-tensorflow-job-worker-0\r\n",
      "  Normal  SuccessfulCreatePod      1s    tf-operator  Created pod: distributed-tensorflow-job-worker-1\r\n",
      "  Normal  SuccessfulCreateService  1s    tf-operator  Created service: distributed-tensorflow-job-worker-0\r\n",
      "  Normal  SuccessfulCreateService  1s    tf-operator  Created service: distributed-tensorflow-job-worker-1\r\n",
      "  Normal  SuccessfulCreatePod      0s    tf-operator  Created pod: distributed-tensorflow-job-ps-0\r\n",
      "  Normal  SuccessfulCreateService  0s    tf-operator  Created service: distributed-tensorflow-job-ps-0\r\n"
     ]
    }
   ],
   "source": [
    "!kubectl describe tfjob distributed-tensorflow-job"
   ]
  },
  {
   "cell_type": "markdown",
   "metadata": {},
   "source": [
    "# Check Distributed TensorFlow Job Logs\n",
    "_Note:  If you see an error in this cell, just wait a bit and re-run to see the logs._"
   ]
  },
  {
   "cell_type": "code",
   "execution_count": 5,
   "metadata": {},
   "outputs": [
    {
     "name": "stdout",
     "output_type": "stream",
     "text": [
      "distributed-tensorflow-job-ps-0       0/1     ContainerCreating   0          1s\r\n",
      "distributed-tensorflow-job-worker-0   0/1     ContainerCreating   0          2s\r\n",
      "distributed-tensorflow-job-worker-1   0/1     ContainerCreating   0          2s\r\n"
     ]
    }
   ],
   "source": [
    "!kubectl get pod | grep distributed-tensorflow-job"
   ]
  },
  {
   "cell_type": "code",
   "execution_count": 6,
   "metadata": {
    "scrolled": false
   },
   "outputs": [
    {
     "name": "stdout",
     "output_type": "stream",
     "text": [
      "Error from server (BadRequest): container \"tensorflow\" in pod \"distributed-tensorflow-job-worker-0\" is waiting to start: ContainerCreating\r\n"
     ]
    }
   ],
   "source": [
    "!kubectl logs distributed-tensorflow-job-worker-0"
   ]
  },
  {
   "cell_type": "markdown",
   "metadata": {},
   "source": [
    "# Launch Distributed PyTorch Job"
   ]
  },
  {
   "cell_type": "code",
   "execution_count": 7,
   "metadata": {},
   "outputs": [
    {
     "name": "stdout",
     "output_type": "stream",
     "text": [
      "\u001b[94mapiVersion\u001b[39;49;00m: \u001b[33m\"\u001b[39;49;00m\u001b[33mkubeflow.org/v1\u001b[39;49;00m\u001b[33m\"\u001b[39;49;00m\r\n",
      "\u001b[94mkind\u001b[39;49;00m: \u001b[33m\"\u001b[39;49;00m\u001b[33mPyTorchJob\u001b[39;49;00m\u001b[33m\"\u001b[39;49;00m\r\n",
      "\u001b[94mmetadata\u001b[39;49;00m:\r\n",
      "  \u001b[94mname\u001b[39;49;00m: \u001b[33m\"\u001b[39;49;00m\u001b[33mdistributed-pytorch-job\u001b[39;49;00m\u001b[33m\"\u001b[39;49;00m\r\n",
      "\u001b[94mspec\u001b[39;49;00m:\r\n",
      "  \u001b[94mpytorchReplicaSpecs\u001b[39;49;00m:\r\n",
      "    \u001b[94mMaster\u001b[39;49;00m:\r\n",
      "      \u001b[94mreplicas\u001b[39;49;00m: 1\r\n",
      "      \u001b[94mrestartPolicy\u001b[39;49;00m: OnFailure\r\n",
      "      \u001b[94mtemplate\u001b[39;49;00m:\r\n",
      "        \u001b[94mmetadata\u001b[39;49;00m:\r\n",
      "          \u001b[94mannotations\u001b[39;49;00m:\r\n",
      "            \u001b[94msidecar.istio.io/inject\u001b[39;49;00m: \u001b[33m\"\u001b[39;49;00m\u001b[33mfalse\u001b[39;49;00m\u001b[33m\"\u001b[39;49;00m\r\n",
      "        \u001b[94mspec\u001b[39;49;00m:\r\n",
      "          \u001b[94mcontainers\u001b[39;49;00m:\r\n",
      "            - \u001b[94mname\u001b[39;49;00m: pytorch\r\n",
      "              \u001b[94mimage\u001b[39;49;00m: gcr.io/kubeflow-ci/pytorch-dist-mnist_test:1.0\r\n",
      "              \u001b[94margs\u001b[39;49;00m: [\u001b[33m\"\u001b[39;49;00m\u001b[33m--backend\u001b[39;49;00m\u001b[33m\"\u001b[39;49;00m, \u001b[33m\"\u001b[39;49;00m\u001b[33mgloo\u001b[39;49;00m\u001b[33m\"\u001b[39;49;00m]\r\n",
      "              \u001b[37m# Comment out the below resources to use the CPU.\u001b[39;49;00m\r\n",
      "              \u001b[37m#resources:\u001b[39;49;00m\r\n",
      "                \u001b[37m#limits:\u001b[39;49;00m\r\n",
      "                  \u001b[37m#nvidia.com/gpu: 1\u001b[39;49;00m\r\n",
      "    \u001b[94mWorker\u001b[39;49;00m:\r\n",
      "      \u001b[94mreplicas\u001b[39;49;00m: 2\r\n",
      "      \u001b[94mrestartPolicy\u001b[39;49;00m: OnFailure\r\n",
      "      \u001b[94mtemplate\u001b[39;49;00m:\r\n",
      "        \u001b[94mmetadata\u001b[39;49;00m:\r\n",
      "          \u001b[94mannotations\u001b[39;49;00m:\r\n",
      "            \u001b[94msidecar.istio.io/inject\u001b[39;49;00m: \u001b[33m\"\u001b[39;49;00m\u001b[33mfalse\u001b[39;49;00m\u001b[33m\"\u001b[39;49;00m\r\n",
      "        \u001b[94mspec\u001b[39;49;00m:\r\n",
      "          \u001b[94mcontainers\u001b[39;49;00m:\r\n",
      "            - \u001b[94mname\u001b[39;49;00m: pytorch\r\n",
      "              \u001b[94mimage\u001b[39;49;00m: gcr.io/kubeflow-ci/pytorch-dist-mnist_test:1.0\r\n",
      "              \u001b[94margs\u001b[39;49;00m: [\u001b[33m\"\u001b[39;49;00m\u001b[33m--backend\u001b[39;49;00m\u001b[33m\"\u001b[39;49;00m, \u001b[33m\"\u001b[39;49;00m\u001b[33mgloo\u001b[39;49;00m\u001b[33m\"\u001b[39;49;00m]\r\n",
      "              \u001b[37m# Comment out the below resources to use the CPU.\u001b[39;49;00m\r\n",
      "              \u001b[37m#resources:\u001b[39;49;00m\r\n",
      "                \u001b[37m#limits:\u001b[39;49;00m\r\n",
      "                  \u001b[37m#nvidia.com/gpu: 1\u001b[39;49;00m\r\n"
     ]
    }
   ],
   "source": [
    "!pygmentize ./distributed-training/distributed-pytorch-job.yaml"
   ]
  },
  {
   "cell_type": "markdown",
   "metadata": {},
   "source": [
    "# Launch Distributed PyTorch Training Job"
   ]
  },
  {
   "cell_type": "code",
   "execution_count": 8,
   "metadata": {},
   "outputs": [
    {
     "name": "stdout",
     "output_type": "stream",
     "text": [
      "pytorchjob.kubeflow.org/distributed-pytorch-job created\r\n"
     ]
    }
   ],
   "source": [
    "!kubectl apply -f ./distributed-training/distributed-pytorch-job.yaml"
   ]
  },
  {
   "cell_type": "code",
   "execution_count": 9,
   "metadata": {},
   "outputs": [
    {
     "name": "stdout",
     "output_type": "stream",
     "text": [
      "Name:         distributed-pytorch-job\r\n",
      "Namespace:    anonymous\r\n",
      "Labels:       <none>\r\n",
      "Annotations:  kubectl.kubernetes.io/last-applied-configuration:\r\n",
      "                {\"apiVersion\":\"kubeflow.org/v1\",\"kind\":\"PyTorchJob\",\"metadata\":{\"annotations\":{},\"name\":\"distributed-pytorch-job\",\"namespace\":\"anonymous\"}...\r\n",
      "API Version:  kubeflow.org/v1\r\n",
      "Kind:         PyTorchJob\r\n",
      "Metadata:\r\n",
      "  Creation Timestamp:  2020-09-26T22:57:13Z\r\n",
      "  Generation:          1\r\n",
      "  Resource Version:    37643\r\n",
      "  Self Link:           /apis/kubeflow.org/v1/namespaces/anonymous/pytorchjobs/distributed-pytorch-job\r\n",
      "  UID:                 f40f1bfd-a7e9-4514-94dd-2708a14b495b\r\n",
      "Spec:\r\n",
      "  Pytorch Replica Specs:\r\n",
      "    Master:\r\n",
      "      Replicas:        1\r\n",
      "      Restart Policy:  OnFailure\r\n",
      "      Template:\r\n",
      "        Metadata:\r\n",
      "          Annotations:\r\n",
      "            sidecar.istio.io/inject:  false\r\n",
      "        Spec:\r\n",
      "          Containers:\r\n",
      "            Args:\r\n",
      "              --backend\r\n",
      "              gloo\r\n",
      "            Image:  gcr.io/kubeflow-ci/pytorch-dist-mnist_test:1.0\r\n",
      "            Name:   pytorch\r\n",
      "    Worker:\r\n",
      "      Replicas:        2\r\n",
      "      Restart Policy:  OnFailure\r\n",
      "      Template:\r\n",
      "        Metadata:\r\n",
      "          Annotations:\r\n",
      "            sidecar.istio.io/inject:  false\r\n",
      "        Spec:\r\n",
      "          Containers:\r\n",
      "            Args:\r\n",
      "              --backend\r\n",
      "              gloo\r\n",
      "            Image:  gcr.io/kubeflow-ci/pytorch-dist-mnist_test:1.0\r\n",
      "            Name:   pytorch\r\n",
      "Status:\r\n",
      "  Conditions:\r\n",
      "    Last Transition Time:  2020-09-26T22:57:13Z\r\n",
      "    Last Update Time:      2020-09-26T22:57:13Z\r\n",
      "    Message:               PyTorchJob distributed-pytorch-job is created.\r\n",
      "    Reason:                PyTorchJobCreated\r\n",
      "    Status:                True\r\n",
      "    Type:                  Created\r\n",
      "  Replica Statuses:\r\n",
      "    Master:\r\n",
      "    Worker:\r\n",
      "  Start Time:  2020-09-26T22:57:13Z\r\n",
      "Events:\r\n",
      "  Type    Reason                   Age   From              Message\r\n",
      "  ----    ------                   ----  ----              -------\r\n",
      "  Normal  SuccessfulCreatePod      1s    pytorch-operator  Created pod: distributed-pytorch-job-worker-0\r\n",
      "  Normal  SuccessfulCreatePod      1s    pytorch-operator  Created pod: distributed-pytorch-job-worker-1\r\n",
      "  Normal  SuccessfulCreatePod      0s    pytorch-operator  Created pod: distributed-pytorch-job-master-0\r\n",
      "  Normal  SuccessfulCreateService  0s    pytorch-operator  Created service: distributed-pytorch-job-master-0\r\n"
     ]
    }
   ],
   "source": [
    "!kubectl describe pytorchjob distributed-pytorch-job"
   ]
  },
  {
   "cell_type": "markdown",
   "metadata": {},
   "source": [
    "# Check Distributed PyTorch Training Logs\n",
    "## _Note:  If you see an error below, just wait a bit and re-run.  You will eventually see the pod status change to `Running` or `Completed`._"
   ]
  },
  {
   "cell_type": "code",
   "execution_count": 10,
   "metadata": {
    "scrolled": true
   },
   "outputs": [
    {
     "name": "stdout",
     "output_type": "stream",
     "text": [
      "distributed-pytorch-job-master-0      0/1     ContainerCreating   0          1s\r\n",
      "distributed-pytorch-job-worker-0      0/1     Init:0/1            0          2s\r\n",
      "distributed-pytorch-job-worker-1      0/1     Init:0/1            0          2s\r\n"
     ]
    }
   ],
   "source": [
    "!kubectl get pod | grep distributed-pytorch-job"
   ]
  },
  {
   "cell_type": "markdown",
   "metadata": {},
   "source": [
    "# If You See an Error Below, Wait a Few Seconds and Re-Run It "
   ]
  },
  {
   "cell_type": "code",
   "execution_count": 12,
   "metadata": {},
   "outputs": [
    {
     "name": "stdout",
     "output_type": "stream",
     "text": [
      "Using distributed PyTorch with gloo backend\r\n"
     ]
    }
   ],
   "source": [
    "!kubectl logs distributed-pytorch-job-master-0"
   ]
  },
  {
   "cell_type": "code",
   "execution_count": null,
   "metadata": {},
   "outputs": [],
   "source": []
  }
 ],
 "metadata": {
  "kernelspec": {
   "display_name": "Python 3",
   "language": "python",
   "name": "python3"
  },
  "language_info": {
   "codemirror_mode": {
    "name": "ipython",
    "version": 3
   },
   "file_extension": ".py",
   "mimetype": "text/x-python",
   "name": "python",
   "nbconvert_exporter": "python",
   "pygments_lexer": "ipython3",
   "version": "3.6.8"
  }
 },
 "nbformat": 4,
 "nbformat_minor": 2
}
