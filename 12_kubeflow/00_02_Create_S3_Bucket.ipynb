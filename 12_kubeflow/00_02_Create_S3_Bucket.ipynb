{
 "cells": [
  {
   "cell_type": "markdown",
   "metadata": {},
   "source": [
    "# 1. Create S3 Bucket (If Not Already Created)\n"
   ]
  },
  {
   "cell_type": "code",
   "execution_count": 1,
   "metadata": {},
   "outputs": [
    {
     "name": "stdout",
     "output_type": "stream",
     "text": [
      "export S3_BUCKET=sagemaker-us-east-1-146478650644\n",
      "                           PRE amazon-reviews-pds/\n",
      "                           PRE amazon-reviews-spark-analyzer-2020-09-26-17-19-12/\n",
      "                           PRE athena/\n",
      "                           PRE bandits-1601152346/\n",
      "                           PRE data/\n",
      "                           PRE estimator-training-pipeline-2020-09-26-20-39-18/\n",
      "                           PRE models/\n",
      "                           PRE pipeline_sklearn_processing/\n",
      "                           PRE sagemaker-scikit-learn-2020-09-26-17-46-41-727/\n",
      "                           PRE spark-amazon-reviews-analyzer-2020-09-26-17-19-12-356/\n",
      "                           PRE tensorflow-training-200926-1950-001-7c7e78a3/\n",
      "                           PRE tensorflow-training-200926-1950-002-92738b6e/\n",
      "                           PRE tensorflow-training-2020-09-26-18-45-37-202/\n",
      "                           PRE tensorflow-training-2020-09-26-19-50-56-909/\n",
      "                           PRE training-pipeline-2020-09-26-20-39-06/\n",
      "Completed\n"
     ]
    }
   ],
   "source": [
    "%%bash\n",
    "\n",
    "export S3_BUCKET=sagemaker-$(aws configure get region)-$(aws sts get-caller-identity | jq -r '.Account')\n",
    "echo \"export S3_BUCKET=${S3_BUCKET}\" | tee -a ~/.bash_profile\n",
    "\n",
    "# Create a new S3 bucket and upload the dataset. \n",
    "aws s3 ls s3://$S3_BUCKET || aws s3 mb s3://${S3_BUCKET}\n",
    "\n",
    "echo \"Completed\"\n"
   ]
  },
  {
   "cell_type": "markdown",
   "metadata": {},
   "source": [
    "# 2. Verify S3_BUCKET Env Variable"
   ]
  },
  {
   "cell_type": "code",
   "execution_count": 2,
   "metadata": {},
   "outputs": [
    {
     "name": "stdout",
     "output_type": "stream",
     "text": [
      "sagemaker-us-east-1-146478650644\n"
     ]
    }
   ],
   "source": [
    "%%bash\n",
    "\n",
    "source ~/.bash_profile\n",
    "\n",
    "echo \"${S3_BUCKET}\"\n"
   ]
  },
  {
   "cell_type": "markdown",
   "metadata": {},
   "source": [
    "# 3. Verify S3_BUCKET Bucket Creation"
   ]
  },
  {
   "cell_type": "code",
   "execution_count": 3,
   "metadata": {},
   "outputs": [
    {
     "name": "stdout",
     "output_type": "stream",
     "text": [
      "                           PRE amazon-reviews-pds/\n",
      "                           PRE amazon-reviews-spark-analyzer-2020-09-26-17-19-12/\n",
      "                           PRE athena/\n",
      "                           PRE bandits-1601152346/\n",
      "                           PRE data/\n",
      "                           PRE estimator-training-pipeline-2020-09-26-20-39-18/\n",
      "                           PRE models/\n",
      "                           PRE pipeline_sklearn_processing/\n",
      "                           PRE sagemaker-scikit-learn-2020-09-26-17-46-41-727/\n",
      "                           PRE spark-amazon-reviews-analyzer-2020-09-26-17-19-12-356/\n",
      "                           PRE tensorflow-training-200926-1950-001-7c7e78a3/\n",
      "                           PRE tensorflow-training-200926-1950-002-92738b6e/\n",
      "                           PRE tensorflow-training-2020-09-26-18-45-37-202/\n",
      "                           PRE tensorflow-training-2020-09-26-19-50-56-909/\n",
      "                           PRE training-pipeline-2020-09-26-20-39-06/\n"
     ]
    }
   ],
   "source": [
    "%%bash\n",
    "\n",
    "source ~/.bash_profile\n",
    "\n",
    "aws s3 ls s3://${S3_BUCKET}\n"
   ]
  },
  {
   "cell_type": "code",
   "execution_count": null,
   "metadata": {},
   "outputs": [],
   "source": [
    "%%javascript\n",
    "Jupyter.notebook.save_checkpoint();\n",
    "Jupyter.notebook.session.delete();"
   ]
  },
  {
   "cell_type": "code",
   "execution_count": null,
   "metadata": {},
   "outputs": [],
   "source": []
  }
 ],
 "metadata": {
  "kernelspec": {
   "display_name": "conda_python3",
   "language": "python",
   "name": "conda_python3"
  },
  "language_info": {
   "codemirror_mode": {
    "name": "ipython",
    "version": 3
   },
   "file_extension": ".py",
   "mimetype": "text/x-python",
   "name": "python",
   "nbconvert_exporter": "python",
   "pygments_lexer": "ipython3",
   "version": "3.6.10"
  }
 },
 "nbformat": 4,
 "nbformat_minor": 4
}
