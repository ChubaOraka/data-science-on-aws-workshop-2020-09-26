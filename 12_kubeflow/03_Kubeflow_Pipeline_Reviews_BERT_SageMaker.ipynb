{
 "cells": [
  {
   "cell_type": "markdown",
   "metadata": {},
   "source": [
    "# Create a Kubeflow Pipeline with BERT and Amazon SageMaker"
   ]
  },
  {
   "cell_type": "markdown",
   "metadata": {},
   "source": [
    "# Install Dependencies"
   ]
  },
  {
   "cell_type": "code",
   "execution_count": 1,
   "metadata": {
    "scrolled": true
   },
   "outputs": [
    {
     "name": "stdout",
     "output_type": "stream",
     "text": [
      "Collecting sagemaker==1.72.0\n",
      "\u001b[?25l  Downloading https://files.pythonhosted.org/packages/d1/3f/75ea837e2bd704b1567bdf55f7e768745da4fcf1e3b3e061e41ba7d7f399/sagemaker-1.72.0.tar.gz (297kB)\n",
      "\u001b[K    100% |████████████████████████████████| 307kB 34.8MB/s ta 0:00:01\n",
      "\u001b[?25hCollecting boto3>=1.14.12 (from sagemaker==1.72.0)\n",
      "\u001b[?25l  Downloading https://files.pythonhosted.org/packages/eb/e4/1668f3e325b53a0dce17fd25fce1a14de15a70c3f13d60b4852dc80a55e2/boto3-1.15.6-py2.py3-none-any.whl (129kB)\n",
      "\u001b[K    100% |████████████████████████████████| 133kB 58.2MB/s ta 0:00:01\n",
      "\u001b[?25hRequirement already satisfied: numpy>=1.9.0 in /opt/conda/lib/python3.6/site-packages (from sagemaker==1.72.0) (1.18.1)\n",
      "Requirement already satisfied: protobuf>=3.1 in /opt/conda/lib/python3.6/site-packages (from sagemaker==1.72.0) (3.11.2)\n",
      "Requirement already satisfied: scipy>=0.19.0 in /opt/conda/lib/python3.6/site-packages (from sagemaker==1.72.0) (1.1.0)\n",
      "Collecting protobuf3-to-dict>=0.1.5 (from sagemaker==1.72.0)\n",
      "  Downloading https://files.pythonhosted.org/packages/6b/55/522bb43539fed463275ee803d79851faaebe86d17e7e3dbc89870d0322b9/protobuf3-to-dict-0.1.5.tar.gz\n",
      "Collecting smdebug-rulesconfig==0.1.4 (from sagemaker==1.72.0)\n",
      "  Downloading https://files.pythonhosted.org/packages/2c/d7/80252c50e8848101914457d1cf58ef7e20f34406fc660d26108a1fec866d/smdebug_rulesconfig-0.1.4-py2.py3-none-any.whl\n",
      "Requirement already satisfied: importlib-metadata>=1.4.0 in /opt/conda/lib/python3.6/site-packages (from sagemaker==1.72.0) (1.4.0)\n",
      "Collecting packaging>=20.0 (from sagemaker==1.72.0)\n",
      "  Downloading https://files.pythonhosted.org/packages/46/19/c5ab91b1b05cfe63cccd5cfc971db9214c6dd6ced54e33c30d5af1d2bc43/packaging-20.4-py2.py3-none-any.whl\n",
      "Requirement already satisfied: s3transfer<0.4.0,>=0.3.0 in /opt/conda/lib/python3.6/site-packages (from boto3>=1.14.12->sagemaker==1.72.0) (0.3.2)\n",
      "Collecting botocore<1.19.0,>=1.18.6 (from boto3>=1.14.12->sagemaker==1.72.0)\n",
      "\u001b[?25l  Downloading https://files.pythonhosted.org/packages/4b/f2/edbfbc68a27e882ca9e1d905c7dc845df9501dfa0325753cd471980783a5/botocore-1.18.6-py2.py3-none-any.whl (6.6MB)\n",
      "\u001b[K    100% |████████████████████████████████| 6.6MB 8.7MB/s  eta 0:00:01\n",
      "\u001b[?25hRequirement already satisfied: jmespath<1.0.0,>=0.7.1 in /opt/conda/lib/python3.6/site-packages (from boto3>=1.14.12->sagemaker==1.72.0) (0.9.4)\n",
      "Requirement already satisfied: setuptools in /opt/conda/lib/python3.6/site-packages (from protobuf>=3.1->sagemaker==1.72.0) (39.0.1)\n",
      "Requirement already satisfied: six>=1.9 in /opt/conda/lib/python3.6/site-packages (from protobuf>=3.1->sagemaker==1.72.0) (1.11.0)\n",
      "Requirement already satisfied: zipp>=0.5 in /opt/conda/lib/python3.6/site-packages (from importlib-metadata>=1.4.0->sagemaker==1.72.0) (2.0.1)\n",
      "Requirement already satisfied: pyparsing>=2.0.2 in /opt/conda/lib/python3.6/site-packages (from packaging>=20.0->sagemaker==1.72.0) (2.4.6)\n",
      "Requirement already satisfied: python-dateutil<3.0.0,>=2.1 in /opt/conda/lib/python3.6/site-packages (from botocore<1.19.0,>=1.18.6->boto3>=1.14.12->sagemaker==1.72.0) (2.8.0)\n",
      "Requirement already satisfied: urllib3<1.26,>=1.20; python_version != \"3.4\" in /opt/conda/lib/python3.6/site-packages (from botocore<1.19.0,>=1.18.6->boto3>=1.14.12->sagemaker==1.72.0) (1.24.2)\n",
      "Requirement already satisfied: more-itertools in /opt/conda/lib/python3.6/site-packages (from zipp>=0.5->importlib-metadata>=1.4.0->sagemaker==1.72.0) (8.1.0)\n",
      "Building wheels for collected packages: sagemaker, protobuf3-to-dict\n",
      "  Building wheel for sagemaker (setup.py) ... \u001b[?25ldone\n",
      "\u001b[?25h  Stored in directory: /root/.cache/pip/wheels/fb/66/8b/47e7b3de18248022283c8a0207493ec5da81405f0a0a39426f\n",
      "  Building wheel for protobuf3-to-dict (setup.py) ... \u001b[?25ldone\n",
      "\u001b[?25h  Stored in directory: /root/.cache/pip/wheels/37/42/d8/1609d310cabebc2cf60eca038fa2b0c8503412963734a6fc31\n",
      "Successfully built sagemaker protobuf3-to-dict\n",
      "\u001b[31mkubeflow-fairing 0.7.1 has requirement kubernetes>=10.0.1, but you'll have kubernetes 9.0.0 which is incompatible.\u001b[0m\n",
      "\u001b[31mawscli 1.17.8 has requirement botocore==1.14.8, but you'll have botocore 1.18.6 which is incompatible.\u001b[0m\n",
      "Installing collected packages: botocore, boto3, protobuf3-to-dict, smdebug-rulesconfig, packaging, sagemaker\n",
      "  Found existing installation: botocore 1.14.8\n",
      "    Uninstalling botocore-1.14.8:\n",
      "      Successfully uninstalled botocore-1.14.8\n",
      "  Found existing installation: boto3 1.11.8\n",
      "    Uninstalling boto3-1.11.8:\n",
      "      Successfully uninstalled boto3-1.11.8\n",
      "Successfully installed boto3-1.15.6 botocore-1.18.6 packaging-20.4 protobuf3-to-dict-0.1.5 sagemaker-1.72.0 smdebug-rulesconfig-0.1.4\n",
      "\u001b[33mYou are using pip version 19.0.1, however version 20.2.3 is available.\n",
      "You should consider upgrading via the 'pip install --upgrade pip' command.\u001b[0m\n",
      "Collecting https://storage.googleapis.com/ml-pipeline/release/0.1.29/kfp.tar.gz\n",
      "  Using cached https://storage.googleapis.com/ml-pipeline/release/0.1.29/kfp.tar.gz\n",
      "Requirement already satisfied, skipping upgrade: urllib3<1.25,>=1.15 in /opt/conda/lib/python3.6/site-packages (from kfp==0.1.29) (1.24.2)\n",
      "Requirement already satisfied, skipping upgrade: six>=1.10 in /opt/conda/lib/python3.6/site-packages (from kfp==0.1.29) (1.11.0)\n",
      "Requirement already satisfied, skipping upgrade: certifi in /opt/conda/lib/python3.6/site-packages (from kfp==0.1.29) (2019.3.9)\n",
      "Requirement already satisfied, skipping upgrade: python-dateutil in /opt/conda/lib/python3.6/site-packages (from kfp==0.1.29) (2.8.0)\n",
      "Requirement already satisfied, skipping upgrade: PyYAML in /opt/conda/lib/python3.6/site-packages (from kfp==0.1.29) (5.2)\n",
      "Requirement already satisfied, skipping upgrade: google-cloud-storage>=1.13.0 in /opt/conda/lib/python3.6/site-packages (from kfp==0.1.29) (1.25.0)\n",
      "Requirement already satisfied, skipping upgrade: kubernetes<=9.0.0,>=8.0.0 in /root/.local/lib/python3.6/site-packages (from kfp==0.1.29) (9.0.0)\n",
      "Requirement already satisfied, skipping upgrade: PyJWT>=1.6.4 in /opt/conda/lib/python3.6/site-packages (from kfp==0.1.29) (1.6.4)\n",
      "Requirement already satisfied, skipping upgrade: cryptography>=2.4.2 in /opt/conda/lib/python3.6/site-packages (from kfp==0.1.29) (2.4.2)\n",
      "Requirement already satisfied, skipping upgrade: google-auth>=1.6.1 in /opt/conda/lib/python3.6/site-packages (from kfp==0.1.29) (1.11.0)\n",
      "Requirement already satisfied, skipping upgrade: requests_toolbelt>=0.8.0 in /opt/conda/lib/python3.6/site-packages (from kfp==0.1.29) (0.8.0)\n",
      "Requirement already satisfied, skipping upgrade: cloudpickle in /opt/conda/lib/python3.6/site-packages (from kfp==0.1.29) (1.2.2)\n",
      "Requirement already satisfied, skipping upgrade: kfp-server-api<=0.1.25,>=0.1.18 in /root/.local/lib/python3.6/site-packages (from kfp==0.1.29) (0.1.18.3)\n",
      "Requirement already satisfied, skipping upgrade: argo-models==2.2.1a in /root/.local/lib/python3.6/site-packages (from kfp==0.1.29) (2.2.1a0)\n",
      "Requirement already satisfied, skipping upgrade: jsonschema>=3.0.1 in /opt/conda/lib/python3.6/site-packages (from kfp==0.1.29) (3.2.0)\n",
      "Requirement already satisfied, skipping upgrade: tabulate==0.8.3 in /root/.local/lib/python3.6/site-packages (from kfp==0.1.29) (0.8.3)\n",
      "Requirement already satisfied, skipping upgrade: click==7.0 in /opt/conda/lib/python3.6/site-packages (from kfp==0.1.29) (7.0)\n",
      "Requirement already satisfied, skipping upgrade: Deprecated in /root/.local/lib/python3.6/site-packages (from kfp==0.1.29) (1.2.10)\n",
      "Requirement already satisfied, skipping upgrade: google-cloud-core<2.0dev,>=1.2.0 in /opt/conda/lib/python3.6/site-packages (from google-cloud-storage>=1.13.0->kfp==0.1.29) (1.2.0)\n",
      "Requirement already satisfied, skipping upgrade: google-resumable-media<0.6dev,>=0.5.0 in /opt/conda/lib/python3.6/site-packages (from google-cloud-storage>=1.13.0->kfp==0.1.29) (0.5.0)\n",
      "Requirement already satisfied, skipping upgrade: websocket-client!=0.40.0,!=0.41.*,!=0.42.*,>=0.32.0 in /opt/conda/lib/python3.6/site-packages (from kubernetes<=9.0.0,>=8.0.0->kfp==0.1.29) (0.57.0)\n",
      "Requirement already satisfied, skipping upgrade: requests-oauthlib in /opt/conda/lib/python3.6/site-packages (from kubernetes<=9.0.0,>=8.0.0->kfp==0.1.29) (1.3.0)\n",
      "Requirement already satisfied, skipping upgrade: requests in /opt/conda/lib/python3.6/site-packages (from kubernetes<=9.0.0,>=8.0.0->kfp==0.1.29) (2.22.0)\n",
      "Requirement already satisfied, skipping upgrade: setuptools>=21.0.0 in /opt/conda/lib/python3.6/site-packages (from kubernetes<=9.0.0,>=8.0.0->kfp==0.1.29) (39.0.1)\n"
     ]
    },
    {
     "name": "stdout",
     "output_type": "stream",
     "text": [
      "Requirement already satisfied, skipping upgrade: asn1crypto>=0.21.0 in /opt/conda/lib/python3.6/site-packages (from cryptography>=2.4.2->kfp==0.1.29) (0.24.0)\n",
      "Requirement already satisfied, skipping upgrade: idna>=2.1 in /opt/conda/lib/python3.6/site-packages (from cryptography>=2.4.2->kfp==0.1.29) (2.6)\n",
      "Requirement already satisfied, skipping upgrade: cffi!=1.11.3,>=1.7 in /opt/conda/lib/python3.6/site-packages (from cryptography>=2.4.2->kfp==0.1.29) (1.11.5)\n",
      "Requirement already satisfied, skipping upgrade: cachetools<5.0,>=2.0.0 in /opt/conda/lib/python3.6/site-packages (from google-auth>=1.6.1->kfp==0.1.29) (3.1.1)\n",
      "Requirement already satisfied, skipping upgrade: rsa<4.1,>=3.1.4 in /opt/conda/lib/python3.6/site-packages (from google-auth>=1.6.1->kfp==0.1.29) (3.4.2)\n",
      "Requirement already satisfied, skipping upgrade: pyasn1-modules>=0.2.1 in /opt/conda/lib/python3.6/site-packages (from google-auth>=1.6.1->kfp==0.1.29) (0.2.8)\n",
      "Requirement already satisfied, skipping upgrade: pyrsistent>=0.14.0 in /opt/conda/lib/python3.6/site-packages (from jsonschema>=3.0.1->kfp==0.1.29) (0.15.7)\n",
      "Requirement already satisfied, skipping upgrade: attrs>=17.4.0 in /opt/conda/lib/python3.6/site-packages (from jsonschema>=3.0.1->kfp==0.1.29) (19.3.0)\n",
      "Requirement already satisfied, skipping upgrade: importlib-metadata; python_version < \"3.8\" in /opt/conda/lib/python3.6/site-packages (from jsonschema>=3.0.1->kfp==0.1.29) (1.4.0)\n",
      "Requirement already satisfied, skipping upgrade: wrapt<2,>=1.10 in /root/.local/lib/python3.6/site-packages (from Deprecated->kfp==0.1.29) (1.12.1)\n",
      "Requirement already satisfied, skipping upgrade: google-api-core<2.0.0dev,>=1.16.0 in /opt/conda/lib/python3.6/site-packages (from google-cloud-core<2.0dev,>=1.2.0->google-cloud-storage>=1.13.0->kfp==0.1.29) (1.16.0)\n",
      "Requirement already satisfied, skipping upgrade: oauthlib>=3.0.0 in /opt/conda/lib/python3.6/site-packages (from requests-oauthlib->kubernetes<=9.0.0,>=8.0.0->kfp==0.1.29) (3.1.0)\n",
      "Requirement already satisfied, skipping upgrade: chardet<3.1.0,>=3.0.2 in /opt/conda/lib/python3.6/site-packages (from requests->kubernetes<=9.0.0,>=8.0.0->kfp==0.1.29) (3.0.4)\n",
      "Requirement already satisfied, skipping upgrade: pycparser in /opt/conda/lib/python3.6/site-packages (from cffi!=1.11.3,>=1.7->cryptography>=2.4.2->kfp==0.1.29) (2.18)\n",
      "Requirement already satisfied, skipping upgrade: pyasn1>=0.1.3 in /opt/conda/lib/python3.6/site-packages (from rsa<4.1,>=3.1.4->google-auth>=1.6.1->kfp==0.1.29) (0.4.8)\n",
      "Requirement already satisfied, skipping upgrade: zipp>=0.5 in /opt/conda/lib/python3.6/site-packages (from importlib-metadata; python_version < \"3.8\"->jsonschema>=3.0.1->kfp==0.1.29) (2.0.1)\n",
      "Requirement already satisfied, skipping upgrade: pytz in /opt/conda/lib/python3.6/site-packages (from google-api-core<2.0.0dev,>=1.16.0->google-cloud-core<2.0dev,>=1.2.0->google-cloud-storage>=1.13.0->kfp==0.1.29) (2019.3)\n",
      "Requirement already satisfied, skipping upgrade: protobuf>=3.4.0 in /opt/conda/lib/python3.6/site-packages (from google-api-core<2.0.0dev,>=1.16.0->google-cloud-core<2.0dev,>=1.2.0->google-cloud-storage>=1.13.0->kfp==0.1.29) (3.11.2)\n",
      "Requirement already satisfied, skipping upgrade: googleapis-common-protos<2.0dev,>=1.6.0 in /opt/conda/lib/python3.6/site-packages (from google-api-core<2.0.0dev,>=1.16.0->google-cloud-core<2.0dev,>=1.2.0->google-cloud-storage>=1.13.0->kfp==0.1.29) (1.51.0)\n",
      "Requirement already satisfied, skipping upgrade: more-itertools in /opt/conda/lib/python3.6/site-packages (from zipp>=0.5->importlib-metadata; python_version < \"3.8\"->jsonschema>=3.0.1->kfp==0.1.29) (8.1.0)\n",
      "Building wheels for collected packages: kfp\n",
      "  Building wheel for kfp (setup.py) ... \u001b[?25ldone\n",
      "\u001b[?25h  Stored in directory: /tmp/pip-ephem-wheel-cache-t4_e3_8p/wheels/81/b7/33/00ef9dd992b13add014c4875a2c130d9d70288127a793c4af6\n",
      "Successfully built kfp\n",
      "Installing collected packages: kfp\n",
      "  Found existing installation: kfp 0.1.29\n",
      "    Uninstalling kfp-0.1.29:\n",
      "      Successfully uninstalled kfp-0.1.29\n",
      "Successfully installed kfp-0.1.29\n",
      "\u001b[33mYou are using pip version 19.0.1, however version 20.2.3 is available.\n",
      "You should consider upgrading via the 'pip install --upgrade pip' command.\u001b[0m\n"
     ]
    }
   ],
   "source": [
    "!pip install sagemaker==1.72.0\n",
    "!pip install https://storage.googleapis.com/ml-pipeline/release/0.1.29/kfp.tar.gz --upgrade"
   ]
  },
  {
   "cell_type": "code",
   "execution_count": 2,
   "metadata": {},
   "outputs": [
    {
     "name": "stdout",
     "output_type": "stream",
     "text": [
      "Collecting awscli==1.18.140\n",
      "\u001b[?25l  Downloading https://files.pythonhosted.org/packages/6d/67/c87f1b25c27b7970e83814dacb1353a8a21862e6dd15c24f50c4e0a66fa0/awscli-1.18.140-py2.py3-none-any.whl (3.3MB)\n",
      "\u001b[K    100% |████████████████████████████████| 3.3MB 15.3MB/s eta 0:00:01\n",
      "\u001b[?25hRequirement already satisfied: PyYAML<5.4,>=3.10; python_version != \"3.4\" in /opt/conda/lib/python3.6/site-packages (from awscli==1.18.140) (5.2)\n",
      "Requirement already satisfied: docutils<0.16,>=0.10 in /opt/conda/lib/python3.6/site-packages (from awscli==1.18.140) (0.15.2)\n",
      "Collecting botocore==1.17.63 (from awscli==1.18.140)\n",
      "\u001b[?25l  Downloading https://files.pythonhosted.org/packages/d1/96/5f11cca11d08703a5149bf668b2d455d5e633e12ae8e58a860f442b02112/botocore-1.17.63-py2.py3-none-any.whl (6.6MB)\n",
      "\u001b[K    100% |████████████████████████████████| 6.6MB 8.2MB/s eta 0:00:011\n",
      "\u001b[?25hRequirement already satisfied: rsa<=4.5.0,>=3.1.2; python_version != \"3.4\" in /opt/conda/lib/python3.6/site-packages (from awscli==1.18.140) (3.4.2)\n",
      "Requirement already satisfied: colorama<0.4.4,>=0.2.5; python_version != \"3.4\" in /opt/conda/lib/python3.6/site-packages (from awscli==1.18.140) (0.4.1)\n",
      "Requirement already satisfied: s3transfer<0.4.0,>=0.3.0 in /opt/conda/lib/python3.6/site-packages (from awscli==1.18.140) (0.3.2)\n",
      "Requirement already satisfied: jmespath<1.0.0,>=0.7.1 in /opt/conda/lib/python3.6/site-packages (from botocore==1.17.63->awscli==1.18.140) (0.9.4)\n",
      "Requirement already satisfied: python-dateutil<3.0.0,>=2.1 in /opt/conda/lib/python3.6/site-packages (from botocore==1.17.63->awscli==1.18.140) (2.8.0)\n",
      "Requirement already satisfied: urllib3<1.26,>=1.20; python_version != \"3.4\" in /opt/conda/lib/python3.6/site-packages (from botocore==1.17.63->awscli==1.18.140) (1.24.2)\n",
      "Requirement already satisfied: pyasn1>=0.1.3 in /opt/conda/lib/python3.6/site-packages (from rsa<=4.5.0,>=3.1.2; python_version != \"3.4\"->awscli==1.18.140) (0.4.8)\n",
      "Requirement already satisfied: six>=1.5 in /opt/conda/lib/python3.6/site-packages (from python-dateutil<3.0.0,>=2.1->botocore==1.17.63->awscli==1.18.140) (1.11.0)\n",
      "\u001b[31mboto3 1.15.6 has requirement botocore<1.19.0,>=1.18.6, but you'll have botocore 1.17.63 which is incompatible.\u001b[0m\n",
      "Installing collected packages: botocore, awscli\n",
      "  Found existing installation: botocore 1.18.6\n",
      "    Uninstalling botocore-1.18.6:\n",
      "      Successfully uninstalled botocore-1.18.6\n",
      "  Found existing installation: awscli 1.17.8\n",
      "    Uninstalling awscli-1.17.8:\n",
      "      Successfully uninstalled awscli-1.17.8\n",
      "Successfully installed awscli-1.18.140 botocore-1.17.63\n",
      "\u001b[33mYou are using pip version 19.0.1, however version 20.2.3 is available.\n",
      "You should consider upgrading via the 'pip install --upgrade pip' command.\u001b[0m\n"
     ]
    }
   ],
   "source": [
    "!pip install awscli==1.18.140"
   ]
  },
  {
   "cell_type": "markdown",
   "metadata": {},
   "source": [
    "# _Note: Ignore all pip install warning or errors above_"
   ]
  },
  {
   "cell_type": "code",
   "execution_count": null,
   "metadata": {},
   "outputs": [
    {
     "data": {
      "text/html": [
       "<script>Jupyter.notebook.kernel.restart()</script>"
      ],
      "text/plain": [
       "<IPython.core.display.HTML object>"
      ]
     },
     "execution_count": 3,
     "metadata": {},
     "output_type": "execute_result"
    }
   ],
   "source": [
    "# Restart the kernel to pick up pip installed libraries\n",
    "from IPython.core.display import HTML\n",
    "HTML(\"<script>Jupyter.notebook.kernel.restart()</script>\")"
   ]
  },
  {
   "cell_type": "markdown",
   "metadata": {},
   "source": [
    "# Setup Environment Variables"
   ]
  },
  {
   "cell_type": "code",
   "execution_count": 1,
   "metadata": {},
   "outputs": [
    {
     "name": "stdout",
     "output_type": "stream",
     "text": [
      "Region: us-east-1\n",
      "Account ID: 146478650644\n",
      "S3 Bucket: sagemaker-us-east-1-146478650644\n",
      "SageMaker Role ARN: arn:aws:iam::146478650644:role/TeamRole\n"
     ]
    }
   ],
   "source": [
    "import boto3\n",
    "\n",
    "aws_region_as_slist=!curl -s http://169.254.169.254/latest/meta-data/placement/availability-zone | sed 's/\\(.*\\)[a-z]/\\1/'\n",
    "region = aws_region_as_slist.s\n",
    "print('Region: {}'.format(region))\n",
    "\n",
    "account_id=boto3.client('sts').get_caller_identity().get('Account')\n",
    "print('Account ID: {}'.format(account_id))\n",
    "\n",
    "bucket='sagemaker-{}-{}'.format(region, account_id)\n",
    "print('S3 Bucket: {}'.format(bucket))\n",
    "\n",
    "role='arn:aws:iam::{}:role/TeamRole'.format(account_id)\n",
    "print('SageMaker Role ARN: {}'.format(role))"
   ]
  },
  {
   "cell_type": "markdown",
   "metadata": {},
   "source": [
    "# Copy Data from Public S3 to Private S3"
   ]
  },
  {
   "cell_type": "code",
   "execution_count": 2,
   "metadata": {},
   "outputs": [],
   "source": [
    "s3_public_path_tsv = 's3://amazon-reviews-pds/tsv'"
   ]
  },
  {
   "cell_type": "code",
   "execution_count": 3,
   "metadata": {},
   "outputs": [
    {
     "name": "stdout",
     "output_type": "stream",
     "text": [
      "s3://sagemaker-us-east-1-146478650644/amazon-reviews-pds/tsv\n"
     ]
    }
   ],
   "source": [
    "s3_private_path_tsv = 's3://{}/amazon-reviews-pds/tsv'.format(bucket)\n",
    "print(s3_private_path_tsv)"
   ]
  },
  {
   "cell_type": "code",
   "execution_count": 4,
   "metadata": {},
   "outputs": [
    {
     "name": "stdout",
     "output_type": "stream",
     "text": [
      "copy: s3://amazon-reviews-pds/tsv/amazon_reviews_us_Digital_Software_v1_00.tsv.gz to s3://sagemaker-us-east-1-146478650644/amazon-reviews-pds/tsv/amazon_reviews_us_Digital_Software_v1_00.tsv.gz\n",
      "copy: s3://amazon-reviews-pds/tsv/amazon_reviews_us_Digital_Video_Games_v1_00.tsv.gz to s3://sagemaker-us-east-1-146478650644/amazon-reviews-pds/tsv/amazon_reviews_us_Digital_Video_Games_v1_00.tsv.gz\n",
      "copy: s3://amazon-reviews-pds/tsv/amazon_reviews_us_Digital_Ebook_Purchase_v1_01.tsv.gz to s3://sagemaker-us-east-1-146478650644/amazon-reviews-pds/tsv/amazon_reviews_us_Digital_Ebook_Purchase_v1_01.tsv.gz\n"
     ]
    }
   ],
   "source": [
    "!aws s3 cp --recursive $s3_public_path_tsv/ $s3_private_path_tsv/ --exclude \"*\" --include \"amazon_reviews_us_Digital_Software_v1_00.tsv.gz\"\n",
    "!aws s3 cp --recursive $s3_public_path_tsv/ $s3_private_path_tsv/ --exclude \"*\" --include \"amazon_reviews_us_Digital_Video_Games_v1_00.tsv.gz\"\n",
    "!aws s3 cp --recursive $s3_public_path_tsv/ $s3_private_path_tsv/ --exclude \"*\" --include \"amazon_reviews_us_Digital_Ebook_Purchase_v1_01.tsv.gz\""
   ]
  },
  {
   "cell_type": "code",
   "execution_count": 5,
   "metadata": {},
   "outputs": [],
   "source": [
    "raw_input_data_s3_uri = 's3://{}/amazon-reviews-pds/tsv/'.format(bucket)"
   ]
  },
  {
   "cell_type": "markdown",
   "metadata": {},
   "source": [
    "# Build Pipeline"
   ]
  },
  {
   "cell_type": "code",
   "execution_count": 6,
   "metadata": {},
   "outputs": [],
   "source": [
    "import kfp\n",
    "from kfp import components\n",
    "from kfp import dsl\n",
    "from kfp.aws import use_aws_secret"
   ]
  },
  {
   "cell_type": "code",
   "execution_count": 7,
   "metadata": {},
   "outputs": [],
   "source": [
    "sagemaker_process_op = components.load_component_from_url('https://raw.githubusercontent.com/kubeflow/pipelines/3ebd075212e0a761b982880707ec497c36a99d80/components/aws/sagemaker/process/component.yaml')"
   ]
  },
  {
   "cell_type": "code",
   "execution_count": 8,
   "metadata": {},
   "outputs": [],
   "source": [
    "sagemaker_train_op = components.load_component_from_url('https://raw.githubusercontent.com/kubeflow/pipelines/3ebd075212e0a761b982880707ec497c36a99d80/components/aws/sagemaker/train/component.yaml')"
   ]
  },
  {
   "cell_type": "code",
   "execution_count": 9,
   "metadata": {},
   "outputs": [],
   "source": [
    "sagemaker_model_op = components.load_component_from_url('https://raw.githubusercontent.com/kubeflow/pipelines/3ebd075212e0a761b982880707ec497c36a99d80/components/aws/sagemaker/model/component.yaml')"
   ]
  },
  {
   "cell_type": "code",
   "execution_count": 10,
   "metadata": {},
   "outputs": [],
   "source": [
    "sagemaker_deploy_op = components.load_component_from_url('https://raw.githubusercontent.com/kubeflow/pipelines/3ebd075212e0a761b982880707ec497c36a99d80/components/aws/sagemaker/deploy/component.yaml')"
   ]
  },
  {
   "cell_type": "markdown",
   "metadata": {},
   "source": [
    "# Setup Pre-Processing Code "
   ]
  },
  {
   "cell_type": "code",
   "execution_count": 11,
   "metadata": {
    "scrolled": true
   },
   "outputs": [
    {
     "name": "stdout",
     "output_type": "stream",
     "text": [
      "s3://sagemaker-us-east-1-146478650644/processing_code/preprocess-scikit-text-to-bert.py\n",
      "upload: ./preprocess-scikit-text-to-bert.py to s3://sagemaker-us-east-1-146478650644/processing_code/preprocess-scikit-text-to-bert.py\n"
     ]
    }
   ],
   "source": [
    "processing_code_s3_uri = 's3://{}/processing_code/preprocess-scikit-text-to-bert.py'.format(bucket)\n",
    "print(processing_code_s3_uri)\n",
    "\n",
    "!aws s3 cp ./preprocess-scikit-text-to-bert.py $processing_code_s3_uri"
   ]
  },
  {
   "cell_type": "markdown",
   "metadata": {},
   "source": [
    "# Package and Upload Training Code to S3"
   ]
  },
  {
   "cell_type": "code",
   "execution_count": 12,
   "metadata": {},
   "outputs": [
    {
     "name": "stdout",
     "output_type": "stream",
     "text": [
      "./\r\n",
      "./inference.py\r\n",
      "./test-local.sh\r\n",
      "./tf_bert_reviews.py\r\n",
      "./requirements.txt\r\n",
      "./test_data/\r\n",
      "./test_data/amazon_reviews_us_Digital_Software_v1_00.tsv.gz\r\n"
     ]
    }
   ],
   "source": [
    "!tar -cvzf sourcedir.tar.gz -C ./code ."
   ]
  },
  {
   "cell_type": "code",
   "execution_count": 13,
   "metadata": {},
   "outputs": [
    {
     "name": "stdout",
     "output_type": "stream",
     "text": [
      "s3://sagemaker-us-east-1-146478650644/training_code/sourcedir.tar.gz\n",
      "upload: ./sourcedir.tar.gz to s3://sagemaker-us-east-1-146478650644/training_code/sourcedir.tar.gz\n"
     ]
    }
   ],
   "source": [
    "training_code_s3_uri = 's3://{}/training_code/sourcedir.tar.gz'.format(bucket)\n",
    "print(training_code_s3_uri)\n",
    "\n",
    "!aws s3 cp sourcedir.tar.gz $training_code_s3_uri"
   ]
  },
  {
   "cell_type": "code",
   "execution_count": 14,
   "metadata": {},
   "outputs": [],
   "source": [
    "def processing_input(input_name, s3_uri, local_path, s3_data_distribution_type):\n",
    "    return {\n",
    "        \"InputName\": input_name,\n",
    "        \"S3Input\": {\n",
    "            \"LocalPath\": local_path,\n",
    "            \"S3Uri\": s3_uri,\n",
    "            \"S3DataType\": \"S3Prefix\",\n",
    "            \"S3DataDistributionType\": s3_data_distribution_type,\n",
    "            \"S3InputMode\": \"File\",\n",
    "        },\n",
    "    }\n",
    "\n",
    "def processing_output(output_name, s3_uri, local_path, s3_upload_mode):\n",
    "    return {\n",
    "        \"OutputName\": output_name,\n",
    "        \"S3Output\": {\n",
    "            \"LocalPath\": local_path,            \n",
    "            \"S3Uri\": s3_uri,\n",
    "            \"S3UploadMode\": s3_upload_mode\n",
    "        },\n",
    "    }"
   ]
  },
  {
   "cell_type": "code",
   "execution_count": 15,
   "metadata": {},
   "outputs": [],
   "source": [
    "def training_input(input_name, s3_uri, s3_data_distribution_type):\n",
    "    return {\n",
    "        \"ChannelName\": input_name,\n",
    "        \"DataSource\": {\n",
    "            \"S3DataSource\": {\n",
    "                \"S3Uri\": s3_uri, \n",
    "                \"S3DataType\": \"S3Prefix\",\n",
    "                \"S3DataDistributionType\": s3_data_distribution_type                \n",
    "            }\n",
    "        },\n",
    "    }"
   ]
  },
  {
   "cell_type": "markdown",
   "metadata": {},
   "source": [
    "# Setup Pipeline"
   ]
  },
  {
   "cell_type": "code",
   "execution_count": 16,
   "metadata": {},
   "outputs": [],
   "source": [
    "@dsl.pipeline(\n",
    "    name=\"BERT Pipeline\",\n",
    "    description=\"BERT Pipeline\",\n",
    ")\n",
    "def bert_pipeline(role=role, \n",
    "                  bucket=bucket, \n",
    "                  region=region,\n",
    "                  raw_input_data_s3_uri=raw_input_data_s3_uri):\n",
    "\n",
    "    import time\n",
    "    import json\n",
    "\n",
    "    processing_image='763104351884.dkr.ecr.{}.amazonaws.com/tensorflow-training:2.1.0-cpu-py36-ubuntu18.04'.format(region)\n",
    "    train_image='763104351884.dkr.ecr.{}.amazonaws.com/tensorflow-training:2.1.0-cpu-py36-ubuntu18.04'.format(region)        \n",
    "    serve_image='763104351884.dkr.ecr.{}.amazonaws.com/tensorflow-inference:2.1.0-cpu'.format(region)\n",
    "\n",
    "    pipeline_name = 'kubeflow-pipeline-sagemaker-{}'.format(int(time.time()))\n",
    "\n",
    "    network_isolation=False\n",
    "    \n",
    "    ########################\n",
    "    # FEATURE ENGINEERING\n",
    "    ########################    \n",
    "    \n",
    "    max_seq_length=64\n",
    "    train_split_percentage=0.90\n",
    "    validation_split_percentage=0.05\n",
    "    test_split_percentage=0.05\n",
    "    balance_dataset=True\n",
    "\n",
    "    processed_train_data_s3_uri = 's3://{}/{}/processing/output/bert-train'.format(bucket, pipeline_name)\n",
    "    processed_validation_data_s3_uri = 's3://{}/{}/processing/output/bert-validation'.format(bucket, pipeline_name)\n",
    "    processed_test_data_s3_uri = 's3://{}/{}/processing/output/bert-test'.format(bucket, pipeline_name)\n",
    "\n",
    "    processing_instance_type = 'ml.c5.2xlarge'\n",
    "    processing_instance_count = 2\n",
    "\n",
    "    # Training input and output location based on bucket name\n",
    "    process = sagemaker_process_op(\n",
    "        role=role,\n",
    "        region=region,\n",
    "        image=processing_image,\n",
    "        network_isolation=network_isolation,\n",
    "        instance_type=processing_instance_type,\n",
    "        instance_count=processing_instance_count,\n",
    "        container_arguments=['--train-split-percentage', str(train_split_percentage),\n",
    "                             '--validation-split-percentage', str(validation_split_percentage),\n",
    "                             '--test-split-percentage', str(test_split_percentage),\n",
    "                             '--max-seq-length', str(max_seq_length),\n",
    "                             '--balance-dataset', str(balance_dataset)],\n",
    "        container_entrypoint=[\n",
    "            \"python3\",\n",
    "            \"/opt/ml/processing/input/code/preprocess-scikit-text-to-bert.py\",\n",
    "        ],\n",
    "        input_config=[\n",
    "            processing_input(\n",
    "                input_name=\"raw_input\",\n",
    "                s3_uri=\"{}\".format(raw_input_data_s3_uri),\n",
    "                local_path=\"/opt/ml/processing/input/data/\",\n",
    "                s3_data_distribution_type=\"ShardedByS3Key\"\n",
    "            ),\n",
    "            processing_input(\n",
    "                input_name=\"code\",\n",
    "                s3_uri=\"{}\".format(processing_code_s3_uri),\n",
    "                local_path=\"/opt/ml/processing/input/code\",\n",
    "                s3_data_distribution_type=\"FullyReplicated\"\n",
    "            ),\n",
    "        ],\n",
    "        output_config=[\n",
    "            processing_output(\n",
    "                output_name=\"bert-train\",\n",
    "                s3_uri=\"{}\".format(processed_train_data_s3_uri),\n",
    "                local_path=\"/opt/ml/processing/output/bert/train\",\n",
    "                s3_upload_mode=\"EndOfJob\"\n",
    "            ),\n",
    "            processing_output(\n",
    "                output_name=\"bert-validation\",\n",
    "                s3_uri=\"{}\".format(processed_validation_data_s3_uri),\n",
    "                local_path=\"/opt/ml/processing/output/bert/validation\",\n",
    "                s3_upload_mode=\"EndOfJob\"\n",
    "            ),\n",
    "            processing_output(\n",
    "                output_name=\"bert-test\",\n",
    "                s3_uri=\"{}\".format(processed_test_data_s3_uri),\n",
    "                local_path=\"/opt/ml/processing/output/bert/test\",\n",
    "                s3_upload_mode=\"EndOfJob\"\n",
    "            ),\n",
    "        ],\n",
    "    )\n",
    "\n",
    "\n",
    "    ########################\n",
    "    # TRAIN\n",
    "    ########################\n",
    "    \n",
    "    train_channels = [\n",
    "        training_input(input_name=\"train\", \n",
    "                       s3_uri=processed_train_data_s3_uri,\n",
    "                       s3_data_distribution_type=\"ShardedByS3Key\"\n",
    "        ),\n",
    "        training_input(input_name=\"validation\", \n",
    "                       s3_uri=processed_validation_data_s3_uri,\n",
    "                       s3_data_distribution_type=\"ShardedByS3Key\"\n",
    "        ),                       \n",
    "        training_input(input_name=\"test\", \n",
    "                       s3_uri=processed_test_data_s3_uri,\n",
    "                       s3_data_distribution_type=\"ShardedByS3Key\"\n",
    "        )\n",
    "    ]\n",
    "\n",
    "    epochs=1\n",
    "    learning_rate=0.00001\n",
    "    epsilon=0.00000001\n",
    "    train_batch_size=128\n",
    "    validation_batch_size=128\n",
    "    test_batch_size=128\n",
    "    train_steps_per_epoch=100\n",
    "    validation_steps=100\n",
    "    test_steps=100\n",
    "    train_volume_size=1024\n",
    "    use_xla=True\n",
    "    use_amp=True\n",
    "    freeze_bert_layer=False\n",
    "    enable_sagemaker_debugger=False\n",
    "    enable_checkpointing=False\n",
    "    enable_tensorboard=False\n",
    "    input_mode='Pipe'\n",
    "    run_validation=True\n",
    "    run_test=True\n",
    "    run_sample_predictions=True\n",
    "\n",
    "    train_instance_type='ml.c5.9xlarge'   \n",
    "    train_instance_count=1\n",
    "\n",
    "    train_output_location = \"s3://{}/{}/output\".format(bucket, pipeline_name)\n",
    "    \n",
    "    hyperparameters={\n",
    "        'epochs': '{}'.format(epochs),\n",
    "        'learning_rate': '{}'.format(learning_rate),\n",
    "        'epsilon': '{}'.format(epsilon),\n",
    "        'train_batch_size': '{}'.format(train_batch_size),\n",
    "        'validation_batch_size': '{}'.format(validation_batch_size),\n",
    "        'test_batch_size': '{}'.format(test_batch_size),                                             \n",
    "        'train_steps_per_epoch': '{}'.format(train_steps_per_epoch),\n",
    "        'validation_steps': '{}'.format(validation_steps),\n",
    "        'test_steps': '{}'.format(test_steps),\n",
    "        'use_xla': '{}'.format(use_xla),\n",
    "        'use_amp': '{}'.format(use_amp),                                             \n",
    "        'max_seq_length': '{}'.format(max_seq_length),\n",
    "        'freeze_bert_layer': '{}'.format(freeze_bert_layer),\n",
    "        'enable_sagemaker_debugger': '{}'.format(enable_sagemaker_debugger),\n",
    "        'enable_checkpointing': '{}'.format(enable_checkpointing),\n",
    "        'enable_tensorboard': '{}'.format(enable_tensorboard),                                        \n",
    "        'run_validation': '{}'.format(run_validation),\n",
    "        'run_test': '{}'.format(run_test),\n",
    "        'run_sample_predictions': '{}'.format(run_sample_predictions),\n",
    "        'model_dir': '{}'.format(train_output_location),\n",
    "        'sagemaker_program': 'tf_bert_reviews.py',\n",
    "        'sagemaker_region': '{}'.format(region),\n",
    "        'sagemaker_submit_directory': training_code_s3_uri\n",
    "    }\n",
    "    hyperparameters_json = json.dumps(hyperparameters)\n",
    "   \n",
    "    # metric_definitions='{\"val_acc\": \"val_accuracy: ([0-9\\\\\\\\.]+)\"}',\n",
    "    metrics_definitions = [\n",
    "        {'Name': 'train:loss', 'Regex': 'loss: ([0-9\\\\.]+)'},\n",
    "        {'Name': 'train:accuracy', 'Regex': 'accuracy: ([0-9\\\\.]+)'},\n",
    "        {'Name': 'validation:loss', 'Regex': 'val_loss: ([0-9\\\\.]+)'},\n",
    "        {'Name': 'validation:accuracy', 'Regex': 'val_accuracy: ([0-9\\\\.]+)'},\n",
    "    ]\n",
    "    metrics_definitions_json = json.dumps(metrics_definitions)\n",
    "    print(metrics_definitions_json)\n",
    "\n",
    "    # .after(process) is explicitly appended below\n",
    "    training = sagemaker_train_op(\n",
    "        region=region,\n",
    "        image=train_image,\n",
    "        network_isolation=network_isolation,        \n",
    "        instance_type=train_instance_type,\n",
    "        instance_count=train_instance_count,\n",
    "        hyperparameters=hyperparameters_json,\n",
    "        training_input_mode=input_mode,    \n",
    "        channels=train_channels,        \n",
    "        model_artifact_path=train_output_location,\n",
    "        # metric_definitions=metrics_definitions_json,\n",
    "        # TODO:  Add rules\n",
    "        role=role        \n",
    "    ).after(process)\n",
    "\n",
    "\n",
    "    ########################\n",
    "    # DEPLOY\n",
    "    ########################\n",
    "    \n",
    "    # .after(training) is implied because we depend on training.outputs[]\n",
    "    create_model = sagemaker_model_op(\n",
    "        region=region,\n",
    "        model_name=training.outputs[\"job_name\"],\n",
    "        image=serve_image,\n",
    "        network_isolation=network_isolation,       \n",
    "        model_artifact_url=training.outputs[\"model_artifact_url\"],\n",
    "        role=role\n",
    "    )\n",
    "\n",
    "    deploy_instance_type='ml.c5.9xlarge'\n",
    "    deploy_instance_count=1\n",
    "\n",
    "    # .after(create_model) is implied because we depend on create_model.outputs\n",
    "    deploy_model = sagemaker_deploy_op(\n",
    "        region=region,\n",
    "        variant_name_1='AllTraffic',\n",
    "        model_name_1=create_model.output,\n",
    "        instance_type_1=deploy_instance_type,\n",
    "        initial_instance_count_1=deploy_instance_count        \n",
    "    )"
   ]
  },
  {
   "cell_type": "markdown",
   "metadata": {},
   "source": [
    "# Compile Kubeflow Pipeline"
   ]
  },
  {
   "cell_type": "code",
   "execution_count": 17,
   "metadata": {},
   "outputs": [
    {
     "name": "stdout",
     "output_type": "stream",
     "text": [
      "[{\"Name\": \"train:loss\", \"Regex\": \"loss: ([0-9\\\\.]+)\"}, {\"Name\": \"train:accuracy\", \"Regex\": \"accuracy: ([0-9\\\\.]+)\"}, {\"Name\": \"validation:loss\", \"Regex\": \"val_loss: ([0-9\\\\.]+)\"}, {\"Name\": \"validation:accuracy\", \"Regex\": \"val_accuracy: ([0-9\\\\.]+)\"}]\n"
     ]
    },
    {
     "name": "stderr",
     "output_type": "stream",
     "text": [
      "/opt/conda/lib/python3.6/site-packages/kfp/components/_data_passing.py:115: UserWarning: There are no registered serializers from type \"bool\" to type \"Bool\", so the value will be serializers as string \"False\".\n",
      "  serialized_value),\n"
     ]
    }
   ],
   "source": [
    "kfp.compiler.Compiler().compile(bert_pipeline, 'bert-pipeline.zip')"
   ]
  },
  {
   "cell_type": "code",
   "execution_count": 18,
   "metadata": {},
   "outputs": [
    {
     "name": "stdout",
     "output_type": "stream",
     "text": [
      "-rw-r--r-- 1 root users 2440 Sep 26 22:44 ./bert-pipeline.zip\r\n"
     ]
    }
   ],
   "source": [
    "!ls -al ./bert-pipeline.zip"
   ]
  },
  {
   "cell_type": "code",
   "execution_count": 19,
   "metadata": {},
   "outputs": [
    {
     "name": "stdout",
     "output_type": "stream",
     "text": [
      "Archive:  ./bert-pipeline.zip\r\n",
      "  inflating: pipeline.yaml           \r\n"
     ]
    }
   ],
   "source": [
    "!unzip -o ./bert-pipeline.zip"
   ]
  },
  {
   "cell_type": "code",
   "execution_count": 20,
   "metadata": {},
   "outputs": [
    {
     "name": "stdout",
     "output_type": "stream",
     "text": [
      "\u001b[94mapiVersion\u001b[39;49;00m: argoproj.io/v1alpha1\r\n",
      "\u001b[94mkind\u001b[39;49;00m: Workflow\r\n",
      "\u001b[94mmetadata\u001b[39;49;00m:\r\n",
      "  \u001b[94mannotations\u001b[39;49;00m:\r\n",
      "    \u001b[94mpipelines.kubeflow.org/pipeline_spec\u001b[39;49;00m: \u001b[33m'\u001b[39;49;00m\u001b[33m{\"description\":\u001b[39;49;00m\u001b[31m \u001b[39;49;00m\u001b[33m\"BERT\u001b[39;49;00m\u001b[31m \u001b[39;49;00m\u001b[33mPipeline\",\u001b[39;49;00m\u001b[31m \u001b[39;49;00m\u001b[33m\"inputs\":\u001b[39;49;00m\r\n",
      "      \u001b[33m[{\"default\":\u001b[39;49;00m\u001b[31m \u001b[39;49;00m\u001b[33m\"arn:aws:iam::146478650644:role/TeamRole\",\u001b[39;49;00m\u001b[31m \u001b[39;49;00m\u001b[33m\"name\":\u001b[39;49;00m\u001b[31m \u001b[39;49;00m\u001b[33m\"role\"},\u001b[39;49;00m\u001b[31m \u001b[39;49;00m\u001b[33m{\"default\":\u001b[39;49;00m\r\n",
      "      \u001b[33m\"sagemaker-us-east-1-146478650644\",\u001b[39;49;00m\u001b[31m \u001b[39;49;00m\u001b[33m\"name\":\u001b[39;49;00m\u001b[31m \u001b[39;49;00m\u001b[33m\"bucket\"},\u001b[39;49;00m\u001b[31m \u001b[39;49;00m\u001b[33m{\"default\":\u001b[39;49;00m\u001b[31m \u001b[39;49;00m\u001b[33m\"us-east-1\",\u001b[39;49;00m\r\n",
      "      \u001b[33m\"name\":\u001b[39;49;00m\u001b[31m \u001b[39;49;00m\u001b[33m\"region\"},\u001b[39;49;00m\u001b[31m \u001b[39;49;00m\u001b[33m{\"default\":\u001b[39;49;00m\u001b[31m \u001b[39;49;00m\u001b[33m\"s3://sagemaker-us-east-1-146478650644/amazon-reviews-pds/tsv/\",\u001b[39;49;00m\r\n",
      "      \u001b[33m\"name\":\u001b[39;49;00m\u001b[31m \u001b[39;49;00m\u001b[33m\"raw_input_data_s3_uri\"}],\u001b[39;49;00m\u001b[31m \u001b[39;49;00m\u001b[33m\"name\":\u001b[39;49;00m\u001b[31m \u001b[39;49;00m\u001b[33m\"BERT\u001b[39;49;00m\u001b[31m \u001b[39;49;00m\u001b[33mPipeline\"}\u001b[39;49;00m\u001b[33m'\u001b[39;49;00m\r\n",
      "  \u001b[94mgenerateName\u001b[39;49;00m: bert-pipeline-\r\n",
      "\u001b[94mspec\u001b[39;49;00m:\r\n",
      "  \u001b[94marguments\u001b[39;49;00m:\r\n",
      "    \u001b[94mparameters\u001b[39;49;00m:\r\n",
      "    - \u001b[94mname\u001b[39;49;00m: role\r\n",
      "      \u001b[94mvalue\u001b[39;49;00m: arn:aws:iam::146478650644:role/TeamRole\r\n",
      "    - \u001b[94mname\u001b[39;49;00m: bucket\r\n",
      "      \u001b[94mvalue\u001b[39;49;00m: sagemaker-us-east-1-146478650644\r\n",
      "    - \u001b[94mname\u001b[39;49;00m: region\r\n",
      "      \u001b[94mvalue\u001b[39;49;00m: us-east-1\r\n",
      "    - \u001b[94mname\u001b[39;49;00m: raw-input-data-s3-uri\r\n",
      "      \u001b[94mvalue\u001b[39;49;00m: s3://sagemaker-us-east-1-146478650644/amazon-reviews-pds/tsv/\r\n",
      "  \u001b[94mentrypoint\u001b[39;49;00m: bert-pipeline\r\n",
      "  \u001b[94mserviceAccountName\u001b[39;49;00m: pipeline-runner\r\n",
      "  \u001b[94mtemplates\u001b[39;49;00m:\r\n",
      "  - \u001b[94mdag\u001b[39;49;00m:\r\n",
      "      \u001b[94mtasks\u001b[39;49;00m:\r\n",
      "      - \u001b[94marguments\u001b[39;49;00m:\r\n",
      "          \u001b[94mparameters\u001b[39;49;00m:\r\n",
      "          - \u001b[94mname\u001b[39;49;00m: region\r\n",
      "            \u001b[94mvalue\u001b[39;49;00m: \u001b[33m'\u001b[39;49;00m\u001b[33m{{inputs.parameters.region}}\u001b[39;49;00m\u001b[33m'\u001b[39;49;00m\r\n",
      "          - \u001b[94mname\u001b[39;49;00m: role\r\n",
      "            \u001b[94mvalue\u001b[39;49;00m: \u001b[33m'\u001b[39;49;00m\u001b[33m{{inputs.parameters.role}}\u001b[39;49;00m\u001b[33m'\u001b[39;49;00m\r\n",
      "          - \u001b[94mname\u001b[39;49;00m: sagemaker-training-job-job-name\r\n",
      "            \u001b[94mvalue\u001b[39;49;00m: \u001b[33m'\u001b[39;49;00m\u001b[33m{{tasks.sagemaker-training-job.outputs.parameters.sagemaker-training-job-job-name}}\u001b[39;49;00m\u001b[33m'\u001b[39;49;00m\r\n",
      "          - \u001b[94mname\u001b[39;49;00m: sagemaker-training-job-model-artifact-url\r\n",
      "            \u001b[94mvalue\u001b[39;49;00m: \u001b[33m'\u001b[39;49;00m\u001b[33m{{tasks.sagemaker-training-job.outputs.parameters.sagemaker-training-job-model-artifact-url}}\u001b[39;49;00m\u001b[33m'\u001b[39;49;00m\r\n",
      "        \u001b[94mdependencies\u001b[39;49;00m:\r\n",
      "        - sagemaker-training-job\r\n",
      "        \u001b[94mname\u001b[39;49;00m: sagemaker-create-model\r\n",
      "        \u001b[94mtemplate\u001b[39;49;00m: sagemaker-create-model\r\n",
      "      - \u001b[94marguments\u001b[39;49;00m:\r\n",
      "          \u001b[94mparameters\u001b[39;49;00m:\r\n",
      "          - \u001b[94mname\u001b[39;49;00m: region\r\n",
      "            \u001b[94mvalue\u001b[39;49;00m: \u001b[33m'\u001b[39;49;00m\u001b[33m{{inputs.parameters.region}}\u001b[39;49;00m\u001b[33m'\u001b[39;49;00m\r\n",
      "          - \u001b[94mname\u001b[39;49;00m: sagemaker-create-model-model-name\r\n",
      "            \u001b[94mvalue\u001b[39;49;00m: \u001b[33m'\u001b[39;49;00m\u001b[33m{{tasks.sagemaker-create-model.outputs.parameters.sagemaker-create-model-model-name}}\u001b[39;49;00m\u001b[33m'\u001b[39;49;00m\r\n",
      "        \u001b[94mdependencies\u001b[39;49;00m:\r\n",
      "        - sagemaker-create-model\r\n",
      "        \u001b[94mname\u001b[39;49;00m: sagemaker-deploy-model\r\n",
      "        \u001b[94mtemplate\u001b[39;49;00m: sagemaker-deploy-model\r\n",
      "      - \u001b[94marguments\u001b[39;49;00m:\r\n",
      "          \u001b[94mparameters\u001b[39;49;00m:\r\n",
      "          - \u001b[94mname\u001b[39;49;00m: bucket\r\n",
      "            \u001b[94mvalue\u001b[39;49;00m: \u001b[33m'\u001b[39;49;00m\u001b[33m{{inputs.parameters.bucket}}\u001b[39;49;00m\u001b[33m'\u001b[39;49;00m\r\n",
      "          - \u001b[94mname\u001b[39;49;00m: raw-input-data-s3-uri\r\n",
      "            \u001b[94mvalue\u001b[39;49;00m: \u001b[33m'\u001b[39;49;00m\u001b[33m{{inputs.parameters.raw-input-data-s3-uri}}\u001b[39;49;00m\u001b[33m'\u001b[39;49;00m\r\n",
      "          - \u001b[94mname\u001b[39;49;00m: region\r\n",
      "            \u001b[94mvalue\u001b[39;49;00m: \u001b[33m'\u001b[39;49;00m\u001b[33m{{inputs.parameters.region}}\u001b[39;49;00m\u001b[33m'\u001b[39;49;00m\r\n",
      "          - \u001b[94mname\u001b[39;49;00m: role\r\n",
      "            \u001b[94mvalue\u001b[39;49;00m: \u001b[33m'\u001b[39;49;00m\u001b[33m{{inputs.parameters.role}}\u001b[39;49;00m\u001b[33m'\u001b[39;49;00m\r\n",
      "        \u001b[94mname\u001b[39;49;00m: sagemaker-processing-job\r\n",
      "        \u001b[94mtemplate\u001b[39;49;00m: sagemaker-processing-job\r\n",
      "      - \u001b[94marguments\u001b[39;49;00m:\r\n",
      "          \u001b[94mparameters\u001b[39;49;00m:\r\n",
      "          - \u001b[94mname\u001b[39;49;00m: bucket\r\n",
      "            \u001b[94mvalue\u001b[39;49;00m: \u001b[33m'\u001b[39;49;00m\u001b[33m{{inputs.parameters.bucket}}\u001b[39;49;00m\u001b[33m'\u001b[39;49;00m\r\n",
      "          - \u001b[94mname\u001b[39;49;00m: region\r\n",
      "            \u001b[94mvalue\u001b[39;49;00m: \u001b[33m'\u001b[39;49;00m\u001b[33m{{inputs.parameters.region}}\u001b[39;49;00m\u001b[33m'\u001b[39;49;00m\r\n",
      "          - \u001b[94mname\u001b[39;49;00m: role\r\n",
      "            \u001b[94mvalue\u001b[39;49;00m: \u001b[33m'\u001b[39;49;00m\u001b[33m{{inputs.parameters.role}}\u001b[39;49;00m\u001b[33m'\u001b[39;49;00m\r\n",
      "        \u001b[94mdependencies\u001b[39;49;00m:\r\n",
      "        - sagemaker-processing-job\r\n",
      "        \u001b[94mname\u001b[39;49;00m: sagemaker-training-job\r\n",
      "        \u001b[94mtemplate\u001b[39;49;00m: sagemaker-training-job\r\n",
      "    \u001b[94minputs\u001b[39;49;00m:\r\n",
      "      \u001b[94mparameters\u001b[39;49;00m:\r\n",
      "      - \u001b[94mname\u001b[39;49;00m: bucket\r\n",
      "      - \u001b[94mname\u001b[39;49;00m: raw-input-data-s3-uri\r\n",
      "      - \u001b[94mname\u001b[39;49;00m: region\r\n",
      "      - \u001b[94mname\u001b[39;49;00m: role\r\n",
      "    \u001b[94mname\u001b[39;49;00m: bert-pipeline\r\n",
      "  - \u001b[94mcontainer\u001b[39;49;00m:\r\n",
      "      \u001b[94margs\u001b[39;49;00m:\r\n",
      "      - create_model.py\r\n",
      "      - --region\r\n",
      "      - \u001b[33m'\u001b[39;49;00m\u001b[33m{{inputs.parameters.region}}\u001b[39;49;00m\u001b[33m'\u001b[39;49;00m\r\n",
      "      - --endpoint_url\r\n",
      "      - \u001b[33m'\u001b[39;49;00m\u001b[33m'\u001b[39;49;00m\r\n",
      "      - --assume_role\r\n",
      "      - \u001b[33m'\u001b[39;49;00m\u001b[33m'\u001b[39;49;00m\r\n",
      "      - --model_name\r\n",
      "      - \u001b[33m'\u001b[39;49;00m\u001b[33m{{inputs.parameters.sagemaker-training-job-job-name}}\u001b[39;49;00m\u001b[33m'\u001b[39;49;00m\r\n",
      "      - --role\r\n",
      "      - \u001b[33m'\u001b[39;49;00m\u001b[33m{{inputs.parameters.role}}\u001b[39;49;00m\u001b[33m'\u001b[39;49;00m\r\n",
      "      - --container_host_name\r\n",
      "      - \u001b[33m'\u001b[39;49;00m\u001b[33m'\u001b[39;49;00m\r\n",
      "      - --image\r\n",
      "      - 763104351884.dkr.ecr.{{inputs.parameters.region}}.amazonaws.com/tensorflow-inference:2.1.0-cpu\r\n",
      "      - --model_artifact_url\r\n",
      "      - \u001b[33m'\u001b[39;49;00m\u001b[33m{{inputs.parameters.sagemaker-training-job-model-artifact-url}}\u001b[39;49;00m\u001b[33m'\u001b[39;49;00m\r\n",
      "      - --environment\r\n",
      "      - \u001b[33m'\u001b[39;49;00m\u001b[33m{}\u001b[39;49;00m\u001b[33m'\u001b[39;49;00m\r\n",
      "      - --model_package\r\n",
      "      - \u001b[33m'\u001b[39;49;00m\u001b[33m'\u001b[39;49;00m\r\n",
      "      - --secondary_containers\r\n",
      "      - \u001b[33m'\u001b[39;49;00m\u001b[33m[]\u001b[39;49;00m\u001b[33m'\u001b[39;49;00m\r\n",
      "      - --vpc_security_group_ids\r\n",
      "      - \u001b[33m'\u001b[39;49;00m\u001b[33m'\u001b[39;49;00m\r\n",
      "      - --vpc_subnets\r\n",
      "      - \u001b[33m'\u001b[39;49;00m\u001b[33m'\u001b[39;49;00m\r\n",
      "      - --network_isolation\r\n",
      "      - \u001b[33m'\u001b[39;49;00m\u001b[33mFalse\u001b[39;49;00m\u001b[33m'\u001b[39;49;00m\r\n",
      "      - --tags\r\n",
      "      - \u001b[33m'\u001b[39;49;00m\u001b[33m{}\u001b[39;49;00m\u001b[33m'\u001b[39;49;00m\r\n",
      "      - --model_name_output_path\r\n",
      "      - /tmp/outputs/model_name/data\r\n",
      "      \u001b[94mcommand\u001b[39;49;00m:\r\n",
      "      - python3\r\n",
      "      \u001b[94mimage\u001b[39;49;00m: amazon/aws-sagemaker-kfp-components:0.8.0\r\n",
      "    \u001b[94minputs\u001b[39;49;00m:\r\n",
      "      \u001b[94mparameters\u001b[39;49;00m:\r\n",
      "      - \u001b[94mname\u001b[39;49;00m: region\r\n",
      "      - \u001b[94mname\u001b[39;49;00m: role\r\n",
      "      - \u001b[94mname\u001b[39;49;00m: sagemaker-training-job-job-name\r\n",
      "      - \u001b[94mname\u001b[39;49;00m: sagemaker-training-job-model-artifact-url\r\n",
      "    \u001b[94mname\u001b[39;49;00m: sagemaker-create-model\r\n",
      "    \u001b[94moutputs\u001b[39;49;00m:\r\n",
      "      \u001b[94mparameters\u001b[39;49;00m:\r\n",
      "      - \u001b[94mname\u001b[39;49;00m: sagemaker-create-model-model-name\r\n",
      "        \u001b[94mvalueFrom\u001b[39;49;00m:\r\n",
      "          \u001b[94mpath\u001b[39;49;00m: /tmp/outputs/model_name/data\r\n",
      "  - \u001b[94mcontainer\u001b[39;49;00m:\r\n",
      "      \u001b[94margs\u001b[39;49;00m:\r\n",
      "      - deploy.py\r\n",
      "      - --region\r\n",
      "      - \u001b[33m'\u001b[39;49;00m\u001b[33m{{inputs.parameters.region}}\u001b[39;49;00m\u001b[33m'\u001b[39;49;00m\r\n",
      "      - --endpoint_url\r\n",
      "      - \u001b[33m'\u001b[39;49;00m\u001b[33m'\u001b[39;49;00m\r\n",
      "      - --assume_role\r\n",
      "      - \u001b[33m'\u001b[39;49;00m\u001b[33m'\u001b[39;49;00m\r\n",
      "      - --endpoint_config_name\r\n",
      "      - \u001b[33m'\u001b[39;49;00m\u001b[33m'\u001b[39;49;00m\r\n",
      "      - --variant_name_1\r\n",
      "      - AllTraffic\r\n",
      "      - --model_name_1\r\n",
      "      - \u001b[33m'\u001b[39;49;00m\u001b[33m{{inputs.parameters.sagemaker-create-model-model-name}}\u001b[39;49;00m\u001b[33m'\u001b[39;49;00m\r\n",
      "      - --initial_instance_count_1\r\n",
      "      - \u001b[33m'\u001b[39;49;00m\u001b[33m1\u001b[39;49;00m\u001b[33m'\u001b[39;49;00m\r\n",
      "      - --instance_type_1\r\n",
      "      - ml.c5.9xlarge\r\n",
      "      - --initial_variant_weight_1\r\n",
      "      - \u001b[33m'\u001b[39;49;00m\u001b[33m1.0\u001b[39;49;00m\u001b[33m'\u001b[39;49;00m\r\n",
      "      - --accelerator_type_1\r\n",
      "      - \u001b[33m'\u001b[39;49;00m\u001b[33m'\u001b[39;49;00m\r\n",
      "      - --variant_name_2\r\n",
      "      - variant-name-2\r\n",
      "      - --model_name_2\r\n",
      "      - \u001b[33m'\u001b[39;49;00m\u001b[33m'\u001b[39;49;00m\r\n",
      "      - --initial_instance_count_2\r\n",
      "      - \u001b[33m'\u001b[39;49;00m\u001b[33m1\u001b[39;49;00m\u001b[33m'\u001b[39;49;00m\r\n",
      "      - --instance_type_2\r\n",
      "      - ml.m4.xlarge\r\n",
      "      - --initial_variant_weight_2\r\n",
      "      - \u001b[33m'\u001b[39;49;00m\u001b[33m1.0\u001b[39;49;00m\u001b[33m'\u001b[39;49;00m\r\n",
      "      - --accelerator_type_2\r\n",
      "      - \u001b[33m'\u001b[39;49;00m\u001b[33m'\u001b[39;49;00m\r\n",
      "      - --variant_name_3\r\n",
      "      - variant-name-3\r\n",
      "      - --model_name_3\r\n",
      "      - \u001b[33m'\u001b[39;49;00m\u001b[33m'\u001b[39;49;00m\r\n",
      "      - --initial_instance_count_3\r\n",
      "      - \u001b[33m'\u001b[39;49;00m\u001b[33m1\u001b[39;49;00m\u001b[33m'\u001b[39;49;00m\r\n",
      "      - --instance_type_3\r\n",
      "      - ml.m4.xlarge\r\n",
      "      - --initial_variant_weight_3\r\n",
      "      - \u001b[33m'\u001b[39;49;00m\u001b[33m1.0\u001b[39;49;00m\u001b[33m'\u001b[39;49;00m\r\n",
      "      - --accelerator_type_3\r\n",
      "      - \u001b[33m'\u001b[39;49;00m\u001b[33m'\u001b[39;49;00m\r\n",
      "      - --resource_encryption_key\r\n",
      "      - \u001b[33m'\u001b[39;49;00m\u001b[33m'\u001b[39;49;00m\r\n",
      "      - --endpoint_config_tags\r\n",
      "      - \u001b[33m'\u001b[39;49;00m\u001b[33m{}\u001b[39;49;00m\u001b[33m'\u001b[39;49;00m\r\n",
      "      - --endpoint_name\r\n",
      "      - \u001b[33m'\u001b[39;49;00m\u001b[33m'\u001b[39;49;00m\r\n",
      "      - --endpoint_tags\r\n",
      "      - \u001b[33m'\u001b[39;49;00m\u001b[33m{}\u001b[39;49;00m\u001b[33m'\u001b[39;49;00m\r\n",
      "      - --endpoint_name_output_path\r\n",
      "      - /tmp/outputs/endpoint_name/data\r\n",
      "      \u001b[94mcommand\u001b[39;49;00m:\r\n",
      "      - python3\r\n",
      "      \u001b[94mimage\u001b[39;49;00m: amazon/aws-sagemaker-kfp-components:0.8.0\r\n",
      "    \u001b[94minputs\u001b[39;49;00m:\r\n",
      "      \u001b[94mparameters\u001b[39;49;00m:\r\n",
      "      - \u001b[94mname\u001b[39;49;00m: region\r\n",
      "      - \u001b[94mname\u001b[39;49;00m: sagemaker-create-model-model-name\r\n",
      "    \u001b[94mname\u001b[39;49;00m: sagemaker-deploy-model\r\n",
      "    \u001b[94moutputs\u001b[39;49;00m:\r\n",
      "      \u001b[94mparameters\u001b[39;49;00m:\r\n",
      "      - \u001b[94mname\u001b[39;49;00m: sagemaker-deploy-model-endpoint-name\r\n",
      "        \u001b[94mvalueFrom\u001b[39;49;00m:\r\n",
      "          \u001b[94mpath\u001b[39;49;00m: /tmp/outputs/endpoint_name/data\r\n",
      "  - \u001b[94mcontainer\u001b[39;49;00m:\r\n",
      "      \u001b[94margs\u001b[39;49;00m:\r\n",
      "      - process.py\r\n",
      "      - --region\r\n",
      "      - \u001b[33m'\u001b[39;49;00m\u001b[33m{{inputs.parameters.region}}\u001b[39;49;00m\u001b[33m'\u001b[39;49;00m\r\n",
      "      - --endpoint_url\r\n",
      "      - \u001b[33m'\u001b[39;49;00m\u001b[33m'\u001b[39;49;00m\r\n",
      "      - --assume_role\r\n",
      "      - \u001b[33m'\u001b[39;49;00m\u001b[33m'\u001b[39;49;00m\r\n",
      "      - --job_name\r\n",
      "      - \u001b[33m'\u001b[39;49;00m\u001b[33m'\u001b[39;49;00m\r\n",
      "      - --role\r\n",
      "      - \u001b[33m'\u001b[39;49;00m\u001b[33m{{inputs.parameters.role}}\u001b[39;49;00m\u001b[33m'\u001b[39;49;00m\r\n",
      "      - --image\r\n",
      "      - 763104351884.dkr.ecr.{{inputs.parameters.region}}.amazonaws.com/tensorflow-training:2.1.0-cpu-py36-ubuntu18.04\r\n",
      "      - --instance_type\r\n",
      "      - ml.c5.2xlarge\r\n",
      "      - --instance_count\r\n",
      "      - \u001b[33m'\u001b[39;49;00m\u001b[33m2\u001b[39;49;00m\u001b[33m'\u001b[39;49;00m\r\n",
      "      - --volume_size\r\n",
      "      - \u001b[33m'\u001b[39;49;00m\u001b[33m30\u001b[39;49;00m\u001b[33m'\u001b[39;49;00m\r\n",
      "      - --resource_encryption_key\r\n",
      "      - \u001b[33m'\u001b[39;49;00m\u001b[33m'\u001b[39;49;00m\r\n",
      "      - --output_encryption_key\r\n",
      "      - \u001b[33m'\u001b[39;49;00m\u001b[33m'\u001b[39;49;00m\r\n",
      "      - --max_run_time\r\n",
      "      - \u001b[33m'\u001b[39;49;00m\u001b[33m86400\u001b[39;49;00m\u001b[33m'\u001b[39;49;00m\r\n",
      "      - --environment\r\n",
      "      - \u001b[33m'\u001b[39;49;00m\u001b[33m{}\u001b[39;49;00m\u001b[33m'\u001b[39;49;00m\r\n",
      "      - --container_entrypoint\r\n",
      "      - \u001b[33m'\u001b[39;49;00m\u001b[33m[\"python3\",\u001b[39;49;00m\u001b[31m \u001b[39;49;00m\u001b[33m\"/opt/ml/processing/input/code/preprocess-scikit-text-to-bert.py\"]\u001b[39;49;00m\u001b[33m'\u001b[39;49;00m\r\n",
      "      - --container_arguments\r\n",
      "      - \u001b[33m'\u001b[39;49;00m\u001b[33m[\"--train-split-percentage\",\u001b[39;49;00m\u001b[31m \u001b[39;49;00m\u001b[33m\"0.9\",\u001b[39;49;00m\u001b[31m \u001b[39;49;00m\u001b[33m\"--validation-split-percentage\",\u001b[39;49;00m\u001b[31m \u001b[39;49;00m\u001b[33m\"0.05\",\u001b[39;49;00m\r\n",
      "        \u001b[33m\"--test-split-percentage\",\u001b[39;49;00m\u001b[31m \u001b[39;49;00m\u001b[33m\"0.05\",\u001b[39;49;00m\u001b[31m \u001b[39;49;00m\u001b[33m\"--max-seq-length\",\u001b[39;49;00m\u001b[31m \u001b[39;49;00m\u001b[33m\"64\",\u001b[39;49;00m\u001b[31m \u001b[39;49;00m\u001b[33m\"--balance-dataset\",\u001b[39;49;00m\r\n",
      "        \u001b[33m\"True\"]\u001b[39;49;00m\u001b[33m'\u001b[39;49;00m\r\n",
      "      - --output_config\r\n",
      "      - \u001b[33m'\u001b[39;49;00m\u001b[33m[{\"OutputName\":\u001b[39;49;00m\u001b[31m \u001b[39;49;00m\u001b[33m\"bert-train\",\u001b[39;49;00m\u001b[31m \u001b[39;49;00m\u001b[33m\"S3Output\":\u001b[39;49;00m\u001b[31m \u001b[39;49;00m\u001b[33m{\"LocalPath\":\u001b[39;49;00m\u001b[31m \u001b[39;49;00m\u001b[33m\"/opt/ml/processing/output/bert/train\",\u001b[39;49;00m\r\n",
      "        \u001b[33m\"S3Uri\":\u001b[39;49;00m\u001b[31m \u001b[39;49;00m\u001b[33m\"s3://{{inputs.parameters.bucket}}/kubeflow-pipeline-sagemaker-1601160289/processing/output/bert-train\",\u001b[39;49;00m\r\n",
      "        \u001b[33m\"S3UploadMode\":\u001b[39;49;00m\u001b[31m \u001b[39;49;00m\u001b[33m\"EndOfJob\"}},\u001b[39;49;00m\u001b[31m \u001b[39;49;00m\u001b[33m{\"OutputName\":\u001b[39;49;00m\u001b[31m \u001b[39;49;00m\u001b[33m\"bert-validation\",\u001b[39;49;00m\u001b[31m \u001b[39;49;00m\u001b[33m\"S3Output\":\u001b[39;49;00m\r\n",
      "        \u001b[33m{\"LocalPath\":\u001b[39;49;00m\u001b[31m \u001b[39;49;00m\u001b[33m\"/opt/ml/processing/output/bert/validation\",\u001b[39;49;00m\u001b[31m \u001b[39;49;00m\u001b[33m\"S3Uri\":\u001b[39;49;00m\u001b[31m \u001b[39;49;00m\u001b[33m\"s3://{{inputs.parameters.bucket}}/kubeflow-pipeline-sagemaker-1601160289/processing/output/bert-validation\",\u001b[39;49;00m\r\n",
      "        \u001b[33m\"S3UploadMode\":\u001b[39;49;00m\u001b[31m \u001b[39;49;00m\u001b[33m\"EndOfJob\"}},\u001b[39;49;00m\u001b[31m \u001b[39;49;00m\u001b[33m{\"OutputName\":\u001b[39;49;00m\u001b[31m \u001b[39;49;00m\u001b[33m\"bert-test\",\u001b[39;49;00m\u001b[31m \u001b[39;49;00m\u001b[33m\"S3Output\":\u001b[39;49;00m\u001b[31m \u001b[39;49;00m\u001b[33m{\"LocalPath\":\u001b[39;49;00m\r\n",
      "        \u001b[33m\"/opt/ml/processing/output/bert/test\",\u001b[39;49;00m\u001b[31m \u001b[39;49;00m\u001b[33m\"S3Uri\":\u001b[39;49;00m\u001b[31m \u001b[39;49;00m\u001b[33m\"s3://{{inputs.parameters.bucket}}/kubeflow-pipeline-sagemaker-1601160289/processing/output/bert-test\",\u001b[39;49;00m\r\n",
      "        \u001b[33m\"S3UploadMode\":\u001b[39;49;00m\u001b[31m \u001b[39;49;00m\u001b[33m\"EndOfJob\"}}]\u001b[39;49;00m\u001b[33m'\u001b[39;49;00m\r\n",
      "      - --input_config\r\n",
      "      - \u001b[33m'\u001b[39;49;00m\u001b[33m[{\"InputName\":\u001b[39;49;00m\u001b[31m \u001b[39;49;00m\u001b[33m\"raw_input\",\u001b[39;49;00m\u001b[31m \u001b[39;49;00m\u001b[33m\"S3Input\":\u001b[39;49;00m\u001b[31m \u001b[39;49;00m\u001b[33m{\"LocalPath\":\u001b[39;49;00m\u001b[31m \u001b[39;49;00m\u001b[33m\"/opt/ml/processing/input/data/\",\u001b[39;49;00m\r\n",
      "        \u001b[33m\"S3Uri\":\u001b[39;49;00m\u001b[31m \u001b[39;49;00m\u001b[33m\"{{inputs.parameters.raw-input-data-s3-uri}}\",\u001b[39;49;00m\u001b[31m \u001b[39;49;00m\u001b[33m\"S3DataType\":\u001b[39;49;00m\u001b[31m \u001b[39;49;00m\u001b[33m\"S3Prefix\",\u001b[39;49;00m\r\n",
      "        \u001b[33m\"S3DataDistributionType\":\u001b[39;49;00m\u001b[31m \u001b[39;49;00m\u001b[33m\"ShardedByS3Key\",\u001b[39;49;00m\u001b[31m \u001b[39;49;00m\u001b[33m\"S3InputMode\":\u001b[39;49;00m\u001b[31m \u001b[39;49;00m\u001b[33m\"File\"}},\u001b[39;49;00m\u001b[31m \u001b[39;49;00m\u001b[33m{\"InputName\":\u001b[39;49;00m\r\n",
      "        \u001b[33m\"code\",\u001b[39;49;00m\u001b[31m \u001b[39;49;00m\u001b[33m\"S3Input\":\u001b[39;49;00m\u001b[31m \u001b[39;49;00m\u001b[33m{\"LocalPath\":\u001b[39;49;00m\u001b[31m \u001b[39;49;00m\u001b[33m\"/opt/ml/processing/input/code\",\u001b[39;49;00m\u001b[31m \u001b[39;49;00m\u001b[33m\"S3Uri\":\u001b[39;49;00m\r\n",
      "        \u001b[33m\"s3://sagemaker-us-east-1-146478650644/processing_code/preprocess-scikit-text-to-bert.py\",\u001b[39;49;00m\r\n",
      "        \u001b[33m\"S3DataType\":\u001b[39;49;00m\u001b[31m \u001b[39;49;00m\u001b[33m\"S3Prefix\",\u001b[39;49;00m\u001b[31m \u001b[39;49;00m\u001b[33m\"S3DataDistributionType\":\u001b[39;49;00m\u001b[31m \u001b[39;49;00m\u001b[33m\"FullyReplicated\",\u001b[39;49;00m\u001b[31m \u001b[39;49;00m\u001b[33m\"S3InputMode\":\u001b[39;49;00m\r\n",
      "        \u001b[33m\"File\"}}]\u001b[39;49;00m\u001b[33m'\u001b[39;49;00m\r\n",
      "      - --vpc_security_group_ids\r\n",
      "      - \u001b[33m'\u001b[39;49;00m\u001b[33m'\u001b[39;49;00m\r\n",
      "      - --vpc_subnets\r\n",
      "      - \u001b[33m'\u001b[39;49;00m\u001b[33m'\u001b[39;49;00m\r\n",
      "      - --network_isolation\r\n",
      "      - \u001b[33m'\u001b[39;49;00m\u001b[33mFalse\u001b[39;49;00m\u001b[33m'\u001b[39;49;00m\r\n",
      "      - --traffic_encryption\r\n",
      "      - \u001b[33m'\u001b[39;49;00m\u001b[33mFalse\u001b[39;49;00m\u001b[33m'\u001b[39;49;00m\r\n",
      "      - --tags\r\n",
      "      - \u001b[33m'\u001b[39;49;00m\u001b[33m{}\u001b[39;49;00m\u001b[33m'\u001b[39;49;00m\r\n",
      "      - --job_name_output_path\r\n",
      "      - /tmp/outputs/job_name/data\r\n",
      "      - --output_artifacts_output_path\r\n",
      "      - /tmp/outputs/output_artifacts/data\r\n",
      "      \u001b[94mcommand\u001b[39;49;00m:\r\n",
      "      - python3\r\n",
      "      \u001b[94mimage\u001b[39;49;00m: amazon/aws-sagemaker-kfp-components:0.8.0\r\n",
      "    \u001b[94minputs\u001b[39;49;00m:\r\n",
      "      \u001b[94mparameters\u001b[39;49;00m:\r\n",
      "      - \u001b[94mname\u001b[39;49;00m: bucket\r\n",
      "      - \u001b[94mname\u001b[39;49;00m: raw-input-data-s3-uri\r\n",
      "      - \u001b[94mname\u001b[39;49;00m: region\r\n",
      "      - \u001b[94mname\u001b[39;49;00m: role\r\n",
      "    \u001b[94mname\u001b[39;49;00m: sagemaker-processing-job\r\n",
      "    \u001b[94moutputs\u001b[39;49;00m:\r\n",
      "      \u001b[94mparameters\u001b[39;49;00m:\r\n",
      "      - \u001b[94mname\u001b[39;49;00m: sagemaker-processing-job-job-name\r\n",
      "        \u001b[94mvalueFrom\u001b[39;49;00m:\r\n",
      "          \u001b[94mpath\u001b[39;49;00m: /tmp/outputs/job_name/data\r\n",
      "      - \u001b[94mname\u001b[39;49;00m: sagemaker-processing-job-output-artifacts\r\n",
      "        \u001b[94mvalueFrom\u001b[39;49;00m:\r\n",
      "          \u001b[94mpath\u001b[39;49;00m: /tmp/outputs/output_artifacts/data\r\n",
      "  - \u001b[94mcontainer\u001b[39;49;00m:\r\n",
      "      \u001b[94margs\u001b[39;49;00m:\r\n",
      "      - train.py\r\n",
      "      - --region\r\n",
      "      - \u001b[33m'\u001b[39;49;00m\u001b[33m{{inputs.parameters.region}}\u001b[39;49;00m\u001b[33m'\u001b[39;49;00m\r\n",
      "      - --endpoint_url\r\n",
      "      - \u001b[33m'\u001b[39;49;00m\u001b[33m'\u001b[39;49;00m\r\n",
      "      - --assume_role\r\n",
      "      - \u001b[33m'\u001b[39;49;00m\u001b[33m'\u001b[39;49;00m\r\n",
      "      - --job_name\r\n",
      "      - \u001b[33m'\u001b[39;49;00m\u001b[33m'\u001b[39;49;00m\r\n",
      "      - --role\r\n",
      "      - \u001b[33m'\u001b[39;49;00m\u001b[33m{{inputs.parameters.role}}\u001b[39;49;00m\u001b[33m'\u001b[39;49;00m\r\n",
      "      - --image\r\n",
      "      - 763104351884.dkr.ecr.{{inputs.parameters.region}}.amazonaws.com/tensorflow-training:2.1.0-cpu-py36-ubuntu18.04\r\n",
      "      - --algorithm_name\r\n",
      "      - \u001b[33m'\u001b[39;49;00m\u001b[33m'\u001b[39;49;00m\r\n",
      "      - --metric_definitions\r\n",
      "      - \u001b[33m'\u001b[39;49;00m\u001b[33m{}\u001b[39;49;00m\u001b[33m'\u001b[39;49;00m\r\n",
      "      - --training_input_mode\r\n",
      "      - Pipe\r\n",
      "      - --hyperparameters\r\n",
      "      - \u001b[33m'\u001b[39;49;00m\u001b[33m{\"epochs\":\u001b[39;49;00m\u001b[31m \u001b[39;49;00m\u001b[33m\"1\",\u001b[39;49;00m\u001b[31m \u001b[39;49;00m\u001b[33m\"learning_rate\":\u001b[39;49;00m\u001b[31m \u001b[39;49;00m\u001b[33m\"1e-05\",\u001b[39;49;00m\u001b[31m \u001b[39;49;00m\u001b[33m\"epsilon\":\u001b[39;49;00m\u001b[31m \u001b[39;49;00m\u001b[33m\"1e-08\",\u001b[39;49;00m\u001b[31m \u001b[39;49;00m\u001b[33m\"train_batch_size\":\u001b[39;49;00m\r\n",
      "        \u001b[33m\"128\",\u001b[39;49;00m\u001b[31m \u001b[39;49;00m\u001b[33m\"validation_batch_size\":\u001b[39;49;00m\u001b[31m \u001b[39;49;00m\u001b[33m\"128\",\u001b[39;49;00m\u001b[31m \u001b[39;49;00m\u001b[33m\"test_batch_size\":\u001b[39;49;00m\u001b[31m \u001b[39;49;00m\u001b[33m\"128\",\u001b[39;49;00m\u001b[31m \u001b[39;49;00m\u001b[33m\"train_steps_per_epoch\":\u001b[39;49;00m\r\n",
      "        \u001b[33m\"100\",\u001b[39;49;00m\u001b[31m \u001b[39;49;00m\u001b[33m\"validation_steps\":\u001b[39;49;00m\u001b[31m \u001b[39;49;00m\u001b[33m\"100\",\u001b[39;49;00m\u001b[31m \u001b[39;49;00m\u001b[33m\"test_steps\":\u001b[39;49;00m\u001b[31m \u001b[39;49;00m\u001b[33m\"100\",\u001b[39;49;00m\u001b[31m \u001b[39;49;00m\u001b[33m\"use_xla\":\u001b[39;49;00m\u001b[31m \u001b[39;49;00m\u001b[33m\"True\",\u001b[39;49;00m\r\n",
      "        \u001b[33m\"use_amp\":\u001b[39;49;00m\u001b[31m \u001b[39;49;00m\u001b[33m\"True\",\u001b[39;49;00m\u001b[31m \u001b[39;49;00m\u001b[33m\"max_seq_length\":\u001b[39;49;00m\u001b[31m \u001b[39;49;00m\u001b[33m\"64\",\u001b[39;49;00m\u001b[31m \u001b[39;49;00m\u001b[33m\"freeze_bert_layer\":\u001b[39;49;00m\u001b[31m \u001b[39;49;00m\u001b[33m\"False\",\u001b[39;49;00m\u001b[31m \u001b[39;49;00m\u001b[33m\"enable_sagemaker_debugger\":\u001b[39;49;00m\r\n",
      "        \u001b[33m\"False\",\u001b[39;49;00m\u001b[31m \u001b[39;49;00m\u001b[33m\"enable_checkpointing\":\u001b[39;49;00m\u001b[31m \u001b[39;49;00m\u001b[33m\"False\",\u001b[39;49;00m\u001b[31m \u001b[39;49;00m\u001b[33m\"enable_tensorboard\":\u001b[39;49;00m\u001b[31m \u001b[39;49;00m\u001b[33m\"False\",\u001b[39;49;00m\u001b[31m \u001b[39;49;00m\u001b[33m\"run_validation\":\u001b[39;49;00m\r\n",
      "        \u001b[33m\"True\",\u001b[39;49;00m\u001b[31m \u001b[39;49;00m\u001b[33m\"run_test\":\u001b[39;49;00m\u001b[31m \u001b[39;49;00m\u001b[33m\"True\",\u001b[39;49;00m\u001b[31m \u001b[39;49;00m\u001b[33m\"run_sample_predictions\":\u001b[39;49;00m\u001b[31m \u001b[39;49;00m\u001b[33m\"True\",\u001b[39;49;00m\u001b[31m \u001b[39;49;00m\u001b[33m\"model_dir\":\u001b[39;49;00m\r\n",
      "        \u001b[33m\"s3://{{inputs.parameters.bucket}}/kubeflow-pipeline-sagemaker-1601160289/output\",\u001b[39;49;00m\r\n",
      "        \u001b[33m\"sagemaker_program\":\u001b[39;49;00m\u001b[31m \u001b[39;49;00m\u001b[33m\"tf_bert_reviews.py\",\u001b[39;49;00m\u001b[31m \u001b[39;49;00m\u001b[33m\"sagemaker_region\":\u001b[39;49;00m\u001b[31m \u001b[39;49;00m\u001b[33m\"{{inputs.parameters.region}}\",\u001b[39;49;00m\r\n",
      "        \u001b[33m\"sagemaker_submit_directory\":\u001b[39;49;00m\u001b[31m \u001b[39;49;00m\u001b[33m\"s3://sagemaker-us-east-1-146478650644/training_code/sourcedir.tar.gz\"}\u001b[39;49;00m\u001b[33m'\u001b[39;49;00m\r\n",
      "      - --channels\r\n",
      "      - \u001b[33m'\u001b[39;49;00m\u001b[33m[{\"ChannelName\":\u001b[39;49;00m\u001b[31m \u001b[39;49;00m\u001b[33m\"train\",\u001b[39;49;00m\u001b[31m \u001b[39;49;00m\u001b[33m\"DataSource\":\u001b[39;49;00m\u001b[31m \u001b[39;49;00m\u001b[33m{\"S3DataSource\":\u001b[39;49;00m\u001b[31m \u001b[39;49;00m\u001b[33m{\"S3Uri\":\u001b[39;49;00m\u001b[31m \u001b[39;49;00m\u001b[33m\"s3://{{inputs.parameters.bucket}}/kubeflow-pipeline-sagemaker-1601160289/processing/output/bert-train\",\u001b[39;49;00m\r\n",
      "        \u001b[33m\"S3DataType\":\u001b[39;49;00m\u001b[31m \u001b[39;49;00m\u001b[33m\"S3Prefix\",\u001b[39;49;00m\u001b[31m \u001b[39;49;00m\u001b[33m\"S3DataDistributionType\":\u001b[39;49;00m\u001b[31m \u001b[39;49;00m\u001b[33m\"ShardedByS3Key\"}}},\u001b[39;49;00m\u001b[31m \u001b[39;49;00m\u001b[33m{\"ChannelName\":\u001b[39;49;00m\r\n",
      "        \u001b[33m\"validation\",\u001b[39;49;00m\u001b[31m \u001b[39;49;00m\u001b[33m\"DataSource\":\u001b[39;49;00m\u001b[31m \u001b[39;49;00m\u001b[33m{\"S3DataSource\":\u001b[39;49;00m\u001b[31m \u001b[39;49;00m\u001b[33m{\"S3Uri\":\u001b[39;49;00m\u001b[31m \u001b[39;49;00m\u001b[33m\"s3://{{inputs.parameters.bucket}}/kubeflow-pipeline-sagemaker-1601160289/processing/output/bert-validation\",\u001b[39;49;00m\r\n",
      "        \u001b[33m\"S3DataType\":\u001b[39;49;00m\u001b[31m \u001b[39;49;00m\u001b[33m\"S3Prefix\",\u001b[39;49;00m\u001b[31m \u001b[39;49;00m\u001b[33m\"S3DataDistributionType\":\u001b[39;49;00m\u001b[31m \u001b[39;49;00m\u001b[33m\"ShardedByS3Key\"}}},\u001b[39;49;00m\u001b[31m \u001b[39;49;00m\u001b[33m{\"ChannelName\":\u001b[39;49;00m\r\n",
      "        \u001b[33m\"test\",\u001b[39;49;00m\u001b[31m \u001b[39;49;00m\u001b[33m\"DataSource\":\u001b[39;49;00m\u001b[31m \u001b[39;49;00m\u001b[33m{\"S3DataSource\":\u001b[39;49;00m\u001b[31m \u001b[39;49;00m\u001b[33m{\"S3Uri\":\u001b[39;49;00m\u001b[31m \u001b[39;49;00m\u001b[33m\"s3://{{inputs.parameters.bucket}}/kubeflow-pipeline-sagemaker-1601160289/processing/output/bert-test\",\u001b[39;49;00m\r\n",
      "        \u001b[33m\"S3DataType\":\u001b[39;49;00m\u001b[31m \u001b[39;49;00m\u001b[33m\"S3Prefix\",\u001b[39;49;00m\u001b[31m \u001b[39;49;00m\u001b[33m\"S3DataDistributionType\":\u001b[39;49;00m\u001b[31m \u001b[39;49;00m\u001b[33m\"ShardedByS3Key\"}}}]\u001b[39;49;00m\u001b[33m'\u001b[39;49;00m\r\n",
      "      - --instance_type\r\n",
      "      - ml.c5.9xlarge\r\n",
      "      - --instance_count\r\n",
      "      - \u001b[33m'\u001b[39;49;00m\u001b[33m1\u001b[39;49;00m\u001b[33m'\u001b[39;49;00m\r\n",
      "      - --volume_size\r\n",
      "      - \u001b[33m'\u001b[39;49;00m\u001b[33m30\u001b[39;49;00m\u001b[33m'\u001b[39;49;00m\r\n",
      "      - --resource_encryption_key\r\n",
      "      - \u001b[33m'\u001b[39;49;00m\u001b[33m'\u001b[39;49;00m\r\n",
      "      - --max_run_time\r\n",
      "      - \u001b[33m'\u001b[39;49;00m\u001b[33m86400\u001b[39;49;00m\u001b[33m'\u001b[39;49;00m\r\n",
      "      - --model_artifact_path\r\n",
      "      - s3://{{inputs.parameters.bucket}}/kubeflow-pipeline-sagemaker-1601160289/output\r\n",
      "      - --output_encryption_key\r\n",
      "      - \u001b[33m'\u001b[39;49;00m\u001b[33m'\u001b[39;49;00m\r\n",
      "      - --vpc_security_group_ids\r\n",
      "      - \u001b[33m'\u001b[39;49;00m\u001b[33m'\u001b[39;49;00m\r\n",
      "      - --vpc_subnets\r\n",
      "      - \u001b[33m'\u001b[39;49;00m\u001b[33m'\u001b[39;49;00m\r\n",
      "      - --network_isolation\r\n",
      "      - \u001b[33m'\u001b[39;49;00m\u001b[33mFalse\u001b[39;49;00m\u001b[33m'\u001b[39;49;00m\r\n",
      "      - --traffic_encryption\r\n",
      "      - \u001b[33m'\u001b[39;49;00m\u001b[33mFalse\u001b[39;49;00m\u001b[33m'\u001b[39;49;00m\r\n",
      "      - --debug_hook_config\r\n",
      "      - \u001b[33m'\u001b[39;49;00m\u001b[33m{}\u001b[39;49;00m\u001b[33m'\u001b[39;49;00m\r\n",
      "      - --debug_rule_config\r\n",
      "      - \u001b[33m'\u001b[39;49;00m\u001b[33m[]\u001b[39;49;00m\u001b[33m'\u001b[39;49;00m\r\n",
      "      - --spot_instance\r\n",
      "      - \u001b[33m'\u001b[39;49;00m\u001b[33mFalse\u001b[39;49;00m\u001b[33m'\u001b[39;49;00m\r\n",
      "      - --max_wait_time\r\n",
      "      - \u001b[33m'\u001b[39;49;00m\u001b[33m86400\u001b[39;49;00m\u001b[33m'\u001b[39;49;00m\r\n",
      "      - --checkpoint_config\r\n",
      "      - \u001b[33m'\u001b[39;49;00m\u001b[33m{}\u001b[39;49;00m\u001b[33m'\u001b[39;49;00m\r\n",
      "      - --tags\r\n",
      "      - \u001b[33m'\u001b[39;49;00m\u001b[33m{}\u001b[39;49;00m\u001b[33m'\u001b[39;49;00m\r\n",
      "      - --model_artifact_url_output_path\r\n",
      "      - /tmp/outputs/model_artifact_url/data\r\n",
      "      - --job_name_output_path\r\n",
      "      - /tmp/outputs/job_name/data\r\n",
      "      - --training_image_output_path\r\n",
      "      - /tmp/outputs/training_image/data\r\n",
      "      \u001b[94mcommand\u001b[39;49;00m:\r\n",
      "      - python3\r\n",
      "      \u001b[94mimage\u001b[39;49;00m: amazon/aws-sagemaker-kfp-components:0.8.0\r\n",
      "    \u001b[94minputs\u001b[39;49;00m:\r\n",
      "      \u001b[94mparameters\u001b[39;49;00m:\r\n",
      "      - \u001b[94mname\u001b[39;49;00m: bucket\r\n",
      "      - \u001b[94mname\u001b[39;49;00m: region\r\n",
      "      - \u001b[94mname\u001b[39;49;00m: role\r\n",
      "    \u001b[94mname\u001b[39;49;00m: sagemaker-training-job\r\n",
      "    \u001b[94moutputs\u001b[39;49;00m:\r\n",
      "      \u001b[94mparameters\u001b[39;49;00m:\r\n",
      "      - \u001b[94mname\u001b[39;49;00m: sagemaker-training-job-job-name\r\n",
      "        \u001b[94mvalueFrom\u001b[39;49;00m:\r\n",
      "          \u001b[94mpath\u001b[39;49;00m: /tmp/outputs/job_name/data\r\n",
      "      - \u001b[94mname\u001b[39;49;00m: sagemaker-training-job-model-artifact-url\r\n",
      "        \u001b[94mvalueFrom\u001b[39;49;00m:\r\n",
      "          \u001b[94mpath\u001b[39;49;00m: /tmp/outputs/model_artifact_url/data\r\n",
      "      - \u001b[94mname\u001b[39;49;00m: sagemaker-training-job-training-image\r\n",
      "        \u001b[94mvalueFrom\u001b[39;49;00m:\r\n",
      "          \u001b[94mpath\u001b[39;49;00m: /tmp/outputs/training_image/data\r\n"
     ]
    }
   ],
   "source": [
    "!pygmentize pipeline.yaml"
   ]
  },
  {
   "cell_type": "markdown",
   "metadata": {},
   "source": [
    "# Launch Pipeline on Kubernetes Cluster"
   ]
  },
  {
   "cell_type": "code",
   "execution_count": 21,
   "metadata": {
    "scrolled": true
   },
   "outputs": [
    {
     "data": {
      "text/html": [
       "Experiment link <a href=\"/pipeline/#/experiments/details/d2fa5a28-7a6b-4004-a235-e5048fcb1f0f\" target=\"_blank\" >here</a>"
      ],
      "text/plain": [
       "<IPython.core.display.HTML object>"
      ]
     },
     "metadata": {},
     "output_type": "display_data"
    },
    {
     "data": {
      "text/html": [
       "Run link <a href=\"/pipeline/#/runs/details/6120acd5-6c68-43dd-91a2-2029ce8d8d27\" target=\"_blank\" >here</a>"
      ],
      "text/plain": [
       "<IPython.core.display.HTML object>"
      ]
     },
     "metadata": {},
     "output_type": "display_data"
    }
   ],
   "source": [
    "client = kfp.Client()\n",
    "\n",
    "experiment = client.create_experiment(name='kubeflow')\n",
    "\n",
    "my_run = client.run_pipeline(experiment.id, \n",
    "                             'bert-pipeline', \n",
    "                             'bert-pipeline.zip')"
   ]
  },
  {
   "cell_type": "markdown",
   "metadata": {},
   "source": [
    "# Review Training Job\n",
    "\n",
    "_Note:  The above training job may take 5-10 minutes.  Please be patient._\n",
    "\n",
    "In the meantime, open the SageMaker Console to monitor the progress of your training job.\n",
    "\n",
    "![SageMaker Training Job Console](img/sagemaker-training-job-console.png)"
   ]
  },
  {
   "cell_type": "markdown",
   "metadata": {},
   "source": [
    "# Review the Endpoint\n",
    "First, we need to get the endpoint name of our newly-deployed SageMaker Prediction Endpoint."
   ]
  },
  {
   "cell_type": "markdown",
   "metadata": {},
   "source": [
    "Open AWS console and enter SageMaker service, find the endpoint name as the following picture shows.\n",
    "\n",
    "![download-pipeline](img/sm-endpoint.jpg)"
   ]
  },
  {
   "cell_type": "markdown",
   "metadata": {},
   "source": [
    "# Make a Prediction"
   ]
  },
  {
   "cell_type": "code",
   "execution_count": 22,
   "metadata": {},
   "outputs": [],
   "source": [
    "import boto3\n",
    "\n",
    "sm_runtime = boto3.Session(region_name=region).client('sagemaker-runtime')"
   ]
  },
  {
   "cell_type": "markdown",
   "metadata": {},
   "source": [
    "## _YOU MUST COPY/PASTE THE `endpoint_name` BEFORE CONTINUING_\n",
    "Make sure to include preserve the single-quotes as shown below.\n",
    "\n",
    "![](img/sm-endpoint-kubeflow.png)"
   ]
  },
  {
   "cell_type": "code",
   "execution_count": 23,
   "metadata": {},
   "outputs": [],
   "source": [
    "endpoint_name = 'Endpoint-20200926225117-50FH'"
   ]
  },
  {
   "cell_type": "code",
   "execution_count": 24,
   "metadata": {},
   "outputs": [
    {
     "name": "stdout",
     "output_type": "stream",
     "text": [
      "Predicted Star Rating: [5]\n"
     ]
    }
   ],
   "source": [
    "import json\n",
    "\n",
    "review = \"This is great!\".encode('utf-8')\n",
    "\n",
    "response = sm_runtime.invoke_endpoint(EndpointName=endpoint_name,\n",
    "                                      ContentType='application/json',\n",
    "                                      Body=review)\n",
    "\n",
    "predicted_class = json.loads(response['Body'].read().decode())\n",
    "print('Predicted Star Rating: {}'.format(predicted_class))"
   ]
  },
  {
   "cell_type": "code",
   "execution_count": null,
   "metadata": {},
   "outputs": [],
   "source": []
  }
 ],
 "metadata": {
  "kernelspec": {
   "display_name": "Python 3",
   "language": "python",
   "name": "python3"
  },
  "language_info": {
   "codemirror_mode": {
    "name": "ipython",
    "version": 3
   },
   "file_extension": ".py",
   "mimetype": "text/x-python",
   "name": "python",
   "nbconvert_exporter": "python",
   "pygments_lexer": "ipython3",
   "version": "3.6.8"
  }
 },
 "nbformat": 4,
 "nbformat_minor": 2
}
